{
 "cells": [
  {
   "cell_type": "markdown",
   "metadata": {},
   "source": [
    "# Introduction to Deep Learning"
   ]
  },
  {
   "cell_type": "code",
   "execution_count": 2,
   "metadata": {},
   "outputs": [],
   "source": [
    "import numpy as np\n",
    "import matplotlib.pyplot as plt\n",
    "import h5py"
   ]
  },
  {
   "cell_type": "markdown",
   "metadata": {},
   "source": [
    "You are given a dataset containing:\n",
    "- a training set of m_train images labeled as cat (y=1) or non-cat (y=0)\n",
    "- a test set of m_test images labeled as cat or non-cat\n",
    "- each image is of shape `(num_px, num_px, 3)` where 3 is for the 3 channels (RGB). Thus, each image is square (height = num_px) and (width = num_px).\n",
    "\n",
    "You will build a simple image-recognition algorithm that can correctly classify pictures as cat or non-cat.\n",
    "\n",
    "Let's get more familiar with the dataset. Load the data by running the following code."
   ]
  },
  {
   "cell_type": "code",
   "execution_count": 3,
   "metadata": {},
   "outputs": [
    {
     "name": "stdout",
     "output_type": "stream",
     "text": [
      "(209, 64, 64, 3) (1, 209)\n"
     ]
    }
   ],
   "source": [
    "def loadDataset():\n",
    "    trainDataset = h5py.File(\"datasets/train_catvnoncat.h5\", \"r\")\n",
    "    trainDatasetX = np.array(trainDataset[\"train_set_x\"][:])\n",
    "    trainDatasetY = np.array(trainDataset[\"train_set_y\"][:])\n",
    "    \n",
    "    testDataset = h5py.File(\"datasets/test_catvnoncat.h5\")\n",
    "    testDatasetX = np.array(testDataset[\"test_set_x\"][:])\n",
    "    testDatasetY = np.array(testDataset[\"test_set_y\"][:])\n",
    "\n",
    "    classes = np.array(trainDataset[\"list_classes\"][:])\n",
    "\n",
    "    trainDatasetY = trainDatasetY.reshape((1, trainDatasetY.shape[0]))\n",
    "    testDatasetY = testDatasetY.reshape((1, testDatasetY.shape[0]))\n",
    "    return trainDatasetX, trainDatasetY, testDatasetX, testDatasetY, classes\n",
    "\n",
    "trainDatasetX, trainDatasetY, testDatasetX, testDatasetY, classes = loadDataset()\n",
    "print(trainDatasetX.shape, trainDatasetY.shape)"
   ]
  },
  {
   "cell_type": "markdown",
   "metadata": {},
   "source": [
    "Each line of your train_set_x_orig and test_set_x_orig is an array representing an image. You can visualize an example by running the following code. Feel free also to change the `index` value and re-run to see other images. "
   ]
  },
  {
   "cell_type": "code",
   "execution_count": 4,
   "metadata": {},
   "outputs": [
    {
     "data": {
      "image/png": "[encoded data removed]",
      "text/plain": [
       "<Figure size 640x480 with 1 Axes>"
      ]
     },
     "metadata": {},
     "output_type": "display_data"
    },
    {
     "name": "stdout",
     "output_type": "stream",
     "text": [
      "y = 1, it's a 'cat' picture.\n"
     ]
    }
   ],
   "source": [
    "index = 19\n",
    "plt.imshow(trainDatasetX[index])\n",
    "plt.show()\n",
    "print (\"y = \" + str(trainDatasetY[0, index]) + \", it's a '\" + classes[np.squeeze(trainDatasetY[:, index])].decode(\"utf-8\") +  \"' picture.\")"
   ]
  },
  {
   "cell_type": "markdown",
   "metadata": {},
   "source": [
    "Find the values for:\n",
    "- m_train (number of training examples)\n",
    "- m_test (number of test examples)\n",
    "- num_px (= height = width of a training image)  \n",
    "Remember that `train_set_x_orig` is a numpy-array of shape (m_train, num_px, num_px, 3). For instance, you can access `m_train` by writing `train_set_x_orig.shape[0]`."
   ]
  },
  {
   "cell_type": "code",
   "execution_count": 5,
   "metadata": {},
   "outputs": [
    {
     "name": "stdout",
     "output_type": "stream",
     "text": [
      "Number of training examples:  209\n",
      "Number of testing examples:  50\n",
      "Height of image:  64 px\n",
      "Shape of image:  (64, 64, 3)\n",
      "Shape of training dataset X:  (209, 64, 64, 3)\n",
      "Shape of training dataset Y:  (1, 209)\n"
     ]
    }
   ],
   "source": [
    "m_train = trainDatasetX.shape[0]\n",
    "m_test = testDatasetX.shape[0]\n",
    "num_px = trainDatasetX.shape[1]\n",
    "\n",
    "# let's print some usefull imformation\n",
    "print(\"Number of training examples: \", m_train)\n",
    "print(\"Number of testing examples: \", m_test)\n",
    "print(\"Height of image: \", num_px, \"px\")\n",
    "print(\"Shape of image: \", trainDatasetX[0].shape)\n",
    "print(\"Shape of training dataset X: \", trainDatasetX.shape)\n",
    "print(\"Shape of training dataset Y: \", trainDatasetY.shape)"
   ]
  },
  {
   "cell_type": "markdown",
   "metadata": {},
   "source": [
    "For convenience, you should now reshape images of shape (num_px, num_px, 3) in a numpy-array of shape (num_px $*$ num_px $*$ 3, 1). After this, our training (and test) dataset is a numpy-array where each column represents a flattened image. There should be m_train (respectively m_test) columns.\n",
    "\n",
    "A trick when you want to flatten a matrix X of shape (a,b,c,d) to a matrix X_flatten of shape (b * c * d, a) is to use: \n",
    "```\n",
    "X_flatten = X.reshape(X.shape[0], -1).T\n",
    "```"
   ]
  },
  {
   "cell_type": "code",
   "execution_count": 6,
   "metadata": {},
   "outputs": [
    {
     "name": "stdout",
     "output_type": "stream",
     "text": [
      "Shape of XtrainFlatten:  (12288, 209)\n",
      "Shape of XTestFlatten:  (12288, 50)\n"
     ]
    }
   ],
   "source": [
    "# XTrainFlatten = trainDatasetX[0].reshape(-1,1)\n",
    "XTrainFlatten = trainDatasetX.reshape(trainDatasetX.shape[0],-1).T\n",
    "XTestFlatten = testDatasetX.reshape(testDatasetX.shape[0],-1).T\n",
    "print(\"Shape of XtrainFlatten: \", XTrainFlatten.shape)\n",
    "print(\"Shape of XTestFlatten: \", XTestFlatten.shape)"
   ]
  },
  {
   "cell_type": "markdown",
   "metadata": {},
   "source": [
    "To represent color images, the red, green and blue channels (RGB) must be specified for each pixel, and so the pixel value is actually a vector of three numbers ranging from 0 to 255.\n",
    "\n",
    "One common preprocessing step in machine learning is to center and standardize your dataset, meaning that you substract the mean of the whole numpy array from each example, and then divide each example by the standard deviation of the whole numpy array. But for picture datasets, it is simpler and more convenient and works almost as well to just divide every row of the dataset by 255 (the maximum value of a pixel channel)."
   ]
  },
  {
   "cell_type": "code",
   "execution_count": 7,
   "metadata": {},
   "outputs": [],
   "source": [
    "XTrainFlatten = XTrainFlatten/255\n",
    "XTestFlatten = XTestFlatten/255"
   ]
  },
  {
   "cell_type": "markdown",
   "metadata": {},
   "source": [
    "Sigmoid Function"
   ]
  },
  {
   "cell_type": "code",
   "execution_count": 8,
   "metadata": {},
   "outputs": [],
   "source": [
    "def sigmoid(z):\n",
    "    return 1/(1+np.exp(-z))"
   ]
  },
  {
   "cell_type": "markdown",
   "metadata": {},
   "source": [
    "Initialize Parameters"
   ]
  },
  {
   "cell_type": "code",
   "execution_count": 9,
   "metadata": {},
   "outputs": [],
   "source": [
    "def initializeParameters(dim):\n",
    "    w = np.zeros((dim,1))\n",
    "    b = 0\n",
    "    return w, b"
   ]
  },
  {
   "cell_type": "markdown",
   "metadata": {},
   "source": [
    "## Logistic Regression \n",
    "#### Forward Propagation\n",
    "$$\n",
    "Z = W^T X + b  \\\\\n",
    "A = sigmoid(X) \\\\\n",
    "$$\n",
    "#### Calculate Cost\n",
    "$$\n",
    "J = -\\frac{1}{m}\\sum_{i=1}^{m}y^{(i)}\\log(a^{(i)})+(1-y^{(i)})\\log(1-a^{(i)})\n",
    "$$\n",
    "#### Backward Propagation\n",
    "$$ \\partial W = \\frac{\\partial J}{\\partial W} = \\frac{1}{m}X(A-Y)^T\\tag{7}$$\n",
    "$$ \\partial b = \\frac{\\partial J}{\\partial b} = \\frac{1}{m} \\sum_{i=1}^m (a^{(i)}-y^{(i)})\\tag{8}$$\n",
    "#### Parameter Updation\n",
    "$$ W = W - \\alpha \\text{ } \\partial W $$\n",
    "$$ b = b - \\alpha \\text{ } \\partial b $$"
   ]
  },
  {
   "cell_type": "markdown",
   "metadata": {},
   "source": [
    "Let's implements forward propagation, cost calculation and backward propagation in one function"
   ]
  },
  {
   "cell_type": "code",
   "execution_count": 10,
   "metadata": {},
   "outputs": [],
   "source": [
    "def propagate(w, b, X, Y):\n",
    "    m = m_train\n",
    "\n",
    "    #forward prop\n",
    "    Z = np.dot(w.T,X)+b\n",
    "    A = sigmoid(Z)\n",
    "\n",
    "    #cost calculation\n",
    "    cost = -(1/m)*np.sum(Y*np.log(A) + (1-Y)*np.log(1-A))\n",
    "    cost = np.squeeze(cost)\n",
    "        \n",
    "    #backward prop\n",
    "    db = np.sum(A-Y)/m\n",
    "    dw = np.dot(X,(A-Y).T)/m\n",
    "    grad = {\"dw\": dw,\n",
    "            \"db\": db}\n",
    "    \n",
    "    return grad, cost"
   ]
  },
  {
   "cell_type": "markdown",
   "metadata": {},
   "source": [
    "Implement gradient decent for training our weights"
   ]
  },
  {
   "cell_type": "code",
   "execution_count": 11,
   "metadata": {},
   "outputs": [],
   "source": [
    "def train_model(X, Y, numIterations, learningRate, printCost = False):\n",
    "    nx = X.shape[0]\n",
    "    m = m_train\n",
    "    w, b = initializeParameters(nx)\n",
    "    costs = []\n",
    "\n",
    "    for i in range(numIterations):\n",
    "        #forward propagation, cost calculation and backward propagation\n",
    "        grad, cost = propagate(w, b, X, Y)\n",
    "        costs.append(cost)\n",
    "        #update weights\n",
    "        w -= learningRate*grad[\"dw\"]\n",
    "        b -= learningRate*grad[\"db\"]\n",
    "\n",
    "        if(printCost and i%100==0):\n",
    "            print(f\"Cost after {i+1} iterations: {cost}\")\n",
    "    \n",
    "    params = {\"w\": w,\n",
    "              \"b\": b}\n",
    "    \n",
    "    return params, costs"
   ]
  },
  {
   "cell_type": "code",
   "execution_count": 13,
   "metadata": {},
   "outputs": [
    {
     "name": "stdout",
     "output_type": "stream",
     "text": [
      "Cost after 1 iterations: 0.6931471805599453\n",
      "Cost after 101 iterations: 0.8239208681634637\n",
      "Cost after 201 iterations: 0.41894450030176433\n",
      "Cost after 301 iterations: 0.6173497040028294\n",
      "Cost after 401 iterations: 0.5221157720383086\n",
      "Cost after 501 iterations: 0.3877087489695402\n",
      "Cost after 601 iterations: 0.23625445676797918\n",
      "Cost after 701 iterations: 0.15422213306599883\n",
      "Cost after 801 iterations: 0.13532782831445175\n",
      "Cost after 901 iterations: 0.12497148000298204\n",
      "Cost after 1001 iterations: 0.11647833125716614\n",
      "Cost after 1101 iterations: 0.10919251128232471\n",
      "Cost after 1201 iterations: 0.10280446418272368\n",
      "Cost after 1301 iterations: 0.09712981008018583\n",
      "Cost after 1401 iterations: 0.09204326923679662\n",
      "Cost after 1501 iterations: 0.0874525199181171\n",
      "Cost after 1601 iterations: 0.08328603053685542\n",
      "Cost after 1701 iterations: 0.07948657037867946\n",
      "Cost after 1801 iterations: 0.07600734572144\n",
      "Cost after 1901 iterations: 0.0728094945857943\n",
      "Cost after 2001 iterations: 0.06986035605081965\n",
      "Cost after 2101 iterations: 0.0671322179625071\n",
      "Cost after 2201 iterations: 0.06460137954814624\n",
      "Cost after 2301 iterations: 0.06224743181362689\n",
      "Cost after 2401 iterations: 0.06005269436792557\n",
      "Cost after 2501 iterations: 0.05800176792481571\n",
      "Cost after 2601 iterations: 0.05608117431030846\n",
      "Cost after 2701 iterations: 0.054279063868495195\n",
      "Cost after 2801 iterations: 0.052584975543672835\n",
      "Cost after 2901 iterations: 0.050989638635606564\n",
      "Cost after 3001 iterations: 0.04948480786478094\n",
      "Cost after 3101 iterations: 0.048063125301485564\n",
      "Cost after 3201 iterations: 0.04671800413096788\n",
      "Cost after 3301 iterations: 0.04544353029299151\n",
      "Cost after 3401 iterations: 0.04423437884622292\n",
      "Cost after 3501 iterations: 0.04308574253360216\n",
      "Cost after 3601 iterations: 0.04199327051184034\n",
      "Cost after 3701 iterations: 0.04095301559055518\n",
      "Cost after 3801 iterations: 0.03996138862915751\n",
      "Cost after 3901 iterations: 0.03901511898079091\n",
      "Cost after 4001 iterations: 0.03811122006611675\n",
      "Cost after 4101 iterations: 0.037246959315896715\n",
      "Cost after 4201 iterations: 0.0364198318480496\n",
      "Cost after 4301 iterations: 0.035627537348238356\n",
      "Cost after 4401 iterations: 0.03486795970777767\n",
      "Cost after 4501 iterations: 0.03413914904243094\n",
      "Cost after 4601 iterations: 0.03343930577336982\n",
      "Cost after 4701 iterations: 0.03276676649948943\n",
      "Cost after 4801 iterations: 0.03211999143021934\n",
      "Cost after 4901 iterations: 0.031497553181397464\n",
      "Cost after 5001 iterations: 0.03089812676484295\n",
      "Cost after 5101 iterations: 0.030320480625916503\n",
      "Cost after 5201 iterations: 0.029763468603350402\n",
      "Cost after 5301 iterations: 0.02922602270258652\n",
      "Cost after 5401 iterations: 0.02870714658828359\n",
      "Cost after 5501 iterations: 0.028205909713958276\n",
      "Cost after 5601 iterations: 0.0277214420172503\n",
      "Cost after 5701 iterations: 0.027252929118330757\n",
      "Cost after 5801 iterations: 0.02679960796673722\n",
      "Cost after 5901 iterations: 0.026360762888615455\n",
      "Cost after 6001 iterations: 0.025935721992133072\n",
      "Cost after 6101 iterations: 0.025523853893844865\n",
      "Cost after 6201 iterations: 0.025124564733141976\n",
      "Cost after 6301 iterations: 0.024737295445706645\n",
      "Cost after 6401 iterations: 0.024361519270197175\n",
      "Cost after 6501 iterations: 0.023996739465276074\n",
      "Cost after 6601 iterations: 0.023642487216622706\n",
      "Cost after 6701 iterations: 0.023298319715790054\n",
      "Cost after 6801 iterations: 0.022963818394716114\n",
      "Cost after 6901 iterations: 0.022638587301417178\n",
      "Cost after 7001 iterations: 0.022322251603906173\n",
      "Cost after 7101 iterations: 0.022014456210718406\n",
      "Cost after 7201 iterations: 0.02171486449761179\n",
      "Cost after 7301 iterations: 0.021423157131061313\n",
      "Cost after 7401 iterations: 0.02113903098009966\n",
      "Cost after 7501 iterations: 0.020862198108887238\n",
      "Cost after 7601 iterations: 0.020592384843134554\n",
      "Cost after 7701 iterations: 0.020329330904159382\n",
      "Cost after 7801 iterations: 0.02007278860495198\n",
      "Cost after 7901 iterations: 0.01982252210314751\n",
      "Cost after 8001 iterations: 0.019578306706279407\n",
      "Cost after 8101 iterations: 0.019339928225109593\n",
      "Cost after 8201 iterations: 0.019107182371213668\n",
      "Cost after 8301 iterations: 0.018879874195340998\n",
      "Cost after 8401 iterations: 0.018657817563378126\n",
      "Cost after 8501 iterations: 0.018440834667022298\n",
      "Cost after 8601 iterations: 0.018228755566522526\n",
      "Cost after 8701 iterations: 0.01802141776307252\n",
      "Cost after 8801 iterations: 0.017818665798645168\n",
      "Cost after 8901 iterations: 0.017620350881243526\n",
      "Cost after 9001 iterations: 0.017426330533712744\n",
      "Cost after 9101 iterations: 0.017236468264408656\n",
      "Cost after 9201 iterations: 0.01705063325815941\n",
      "Cost after 9301 iterations: 0.016868700086081587\n",
      "Cost after 9401 iterations: 0.016690548432927374\n",
      "Cost after 9501 iterations: 0.016516062840745027\n",
      "Cost after 9601 iterations: 0.016345132467728958\n",
      "Cost after 9701 iterations: 0.016177650861224198\n",
      "Cost after 9801 iterations: 0.01601351574392917\n",
      "Cost after 9901 iterations: 0.015852628812413432\n",
      "Cost after 10001 iterations: 0.015694895547133984\n",
      "Cost after 10101 iterations: 0.015540225033195043\n",
      "Cost after 10201 iterations: 0.015388529791151379\n",
      "Cost after 10301 iterations: 0.015239725617207702\n",
      "Cost after 10401 iterations: 0.015093731432213207\n",
      "Cost after 10501 iterations: 0.014950469138893651\n",
      "Cost after 10601 iterations: 0.014809863486803583\n",
      "Cost after 10701 iterations: 0.014671841944518042\n",
      "Cost after 10801 iterations: 0.01453633457861639\n",
      "Cost after 10901 iterations: 0.014403273939042905\n",
      "Cost after 11001 iterations: 0.014272594950456378\n",
      "Cost after 11101 iterations: 0.01414423480920902\n",
      "Cost after 11201 iterations: 0.014018132885617866\n",
      "Cost after 11301 iterations: 0.013894230631215816\n",
      "Cost after 11401 iterations: 0.013772471490689761\n",
      "Cost after 11501 iterations: 0.013652800818232634\n",
      "Cost after 11601 iterations: 0.013535165798054624\n",
      "Cost after 11701 iterations: 0.013419515368815013\n",
      "Cost after 11801 iterations: 0.01330580015175156\n",
      "Cost after 11901 iterations: 0.01319397238229917\n",
      "Cost after 12001 iterations: 0.013083985845002165\n",
      "Cost after 12101 iterations: 0.012975795811537367\n",
      "Cost after 12201 iterations: 0.012869358981676706\n",
      "Cost after 12301 iterations: 0.012764633427027997\n",
      "Cost after 12401 iterations: 0.012661578537403882\n",
      "Cost after 12501 iterations: 0.012560154969676548\n",
      "Cost after 12601 iterations: 0.012460324598985802\n",
      "Cost after 12701 iterations: 0.012362050472175323\n",
      "Cost after 12801 iterations: 0.012265296763339777\n",
      "Cost after 12901 iterations: 0.012170028731372391\n",
      "Cost after 13001 iterations: 0.012076212679409006\n",
      "Cost after 13101 iterations: 0.011983815916070945\n",
      "Cost after 13201 iterations: 0.01189280671841447\n",
      "Cost after 13301 iterations: 0.01180315429650026\n",
      "Cost after 13401 iterations: 0.011714828759500986\n",
      "Cost after 13501 iterations: 0.011627801083269981\n",
      "Cost after 13601 iterations: 0.011542043079298294\n",
      "Cost after 13701 iterations: 0.011457527364991442\n",
      "Cost after 13801 iterations: 0.01137422733520115\n",
      "Cost after 13901 iterations: 0.011292117134950779\n",
      "Cost after 14001 iterations: 0.011211171633296806\n",
      "Cost after 14101 iterations: 0.011131366398271544\n",
      "Cost after 14201 iterations: 0.011052677672855556\n",
      "Cost after 14301 iterations: 0.010975082351930801\n",
      "Cost after 14401 iterations: 0.010898557960168328\n",
      "Cost after 14501 iterations: 0.01082308263080679\n",
      "Cost after 14601 iterations: 0.010748635085280112\n",
      "Cost after 14701 iterations: 0.01067519461365534\n",
      "Cost after 14801 iterations: 0.01060274105584318\n",
      "Cost after 14901 iterations: 0.010531254783546195\n",
      "Cost after 15001 iterations: 0.01046071668291095\n",
      "Cost after 15101 iterations: 0.010391108137852609\n",
      "Cost after 15201 iterations: 0.010322411014021753\n",
      "Cost after 15301 iterations: 0.010254607643384745\n",
      "Cost after 15401 iterations: 0.010187680809390684\n",
      "Cost after 15501 iterations: 0.010121613732699038\n",
      "Cost after 15601 iterations: 0.010056390057443534\n",
      "Cost after 15701 iterations: 0.0099919938380088\n",
      "Cost after 15801 iterations: 0.009928409526298018\n",
      "Cost after 15901 iterations: 0.009865621959470132\n",
      "Cost after 16001 iterations: 0.009803616348126773\n",
      "Cost after 16101 iterations: 0.00974237826492977\n",
      "Cost after 16201 iterations: 0.009681893633631242\n",
      "Cost after 16301 iterations: 0.009622148718498683\n",
      "Cost after 16401 iterations: 0.00956313011411892\n",
      "Cost after 16501 iterations: 0.009504824735565005\n",
      "Cost after 16601 iterations: 0.00944721980891122\n",
      "Cost after 16701 iterations: 0.009390302862081914\n",
      "Cost after 16801 iterations: 0.00933406171602054\n",
      "Cost after 16901 iterations: 0.009278484476165971\n",
      "Cost after 17001 iterations: 0.009223559524223816\n",
      "Cost after 17101 iterations: 0.009169275510220664\n",
      "Cost after 17201 iterations: 0.009115621344830287\n",
      "Cost after 17301 iterations: 0.009062586191960868\n",
      "Cost after 17401 iterations: 0.00901015946159307\n",
      "Cost after 17501 iterations: 0.008958330802858988\n",
      "Cost after 17601 iterations: 0.00890709009735281\n",
      "Cost after 17701 iterations: 0.008856427452663945\n",
      "Cost after 17801 iterations: 0.008806333196124469\n",
      "Cost after 17901 iterations: 0.008756797868762082\n",
      "Cost after 18001 iterations: 0.008707812219451338\n",
      "Cost after 18101 iterations: 0.008659367199255266\n",
      "Cost after 18201 iterations: 0.008611453955950376\n",
      "Cost after 18301 iterations: 0.008564063828727998\n",
      "Cost after 18401 iterations: 0.008517188343065587\n",
      "Cost after 18501 iterations: 0.008470819205761575\n",
      "Cost after 18601 iterations: 0.00842494830012772\n",
      "Cost after 18701 iterations: 0.008379567681333145\n",
      "Cost after 18801 iterations: 0.008334669571894729\n",
      "Cost after 18901 iterations: 0.008290246357308169\n",
      "Cost after 19001 iterations: 0.008246290581814959\n",
      "Cost after 19101 iterations: 0.0082027949443002\n",
      "Cost after 19201 iterations: 0.008159752294316702\n",
      "Cost after 19301 iterations: 0.008117155628230717\n",
      "Cost after 19401 iterations: 0.008074998085485029\n",
      "Cost after 19501 iterations: 0.008033272944975462\n",
      "Cost after 19601 iterations: 0.007991973621536452\n",
      "Cost after 19701 iterations: 0.007951093662532376\n",
      "Cost after 19801 iterations: 0.007910626744550285\n",
      "Cost after 19901 iterations: 0.007870566670191306\n"
     ]
    }
   ],
   "source": [
    "params, costs = train_model(XTrainFlatten, trainDatasetY, 20000, 0.01, True)"
   ]
  },
  {
   "cell_type": "markdown",
   "metadata": {},
   "source": [
    "Let's see how cost decrease with iterations"
   ]
  },
  {
   "cell_type": "code",
   "execution_count": null,
   "metadata": {},
   "outputs": [
    {
     "data": {
      "image/png": "[encoded data removed]",
      "text/plain": [
       "<Figure size 640x480 with 1 Axes>"
      ]
     },
     "metadata": {},
     "output_type": "display_data"
    }
   ],
   "source": [
    "plt.plot(costs)\n",
    "plt.show()"
   ]
  },
  {
   "cell_type": "markdown",
   "metadata": {},
   "source": [
    "Let's Predict out model's output on train and test images and and see how our model performed"
   ]
  },
  {
   "cell_type": "code",
   "execution_count": null,
   "metadata": {},
   "outputs": [
    {
     "name": "stdout",
     "output_type": "stream",
     "text": [
      "train accuracy: 65.55023923444976\n",
      "test accuracy: 34.0\n"
     ]
    }
   ],
   "source": [
    "def predict(params, X, Y):\n",
    "    w = params[\"w\"]\n",
    "    b = params[\"b\"]\n",
    "    Z = w.T.dot(X) + b\n",
    "    A = sigmoid(Z)\n",
    "    Y_Prediction = (A > 0.5) * 1.0\n",
    "    return Y_Prediction\n",
    "\n",
    "#checking accuracy\n",
    "trainPrediction = predict(params, XTrainFlatten, trainDatasetY)\n",
    "testPrediction = predict(params, XTestFlatten, testDatasetY)\n",
    "print(f\"train accuracy: {100-np.mean(np.abs(trainPrediction-trainDatasetY))*100}\")\n",
    "print(f\"test accuracy: {100-np.mean(np.abs(testPrediction-testDatasetY))*100}\")"
   ]
  }
 ],
 "metadata": {
  "kernelspec": {
   "display_name": "Python 3",
   "language": "python",
   "name": "python3"
  },
  "language_info": {
   "codemirror_mode": {
    "name": "ipython",
    "version": 3
   },
   "file_extension": ".py",
   "mimetype": "text/x-python",
   "name": "python",
   "nbconvert_exporter": "python",
   "pygments_lexer": "ipython3",
   "version": "3.12.0"
  }
 },
 "nbformat": 4,
 "nbformat_minor": 2
}
