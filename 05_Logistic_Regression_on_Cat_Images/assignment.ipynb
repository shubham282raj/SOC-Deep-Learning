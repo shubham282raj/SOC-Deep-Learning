{
 "cells": [
  {
   "cell_type": "markdown",
   "metadata": {},
   "source": [
    "# Introduction to Deep Learning"
   ]
  },
  {
   "cell_type": "code",
   "execution_count": 4,
   "metadata": {},
   "outputs": [],
   "source": [
    "import numpy as np\n",
    "import matplotlib.pyplot as plt\n",
    "import h5py"
   ]
  },
  {
   "cell_type": "markdown",
   "metadata": {},
   "source": [
    "You are given a dataset containing:\n",
    "- a training set of m_train images labeled as cat (y=1) or non-cat (y=0)\n",
    "- a test set of m_test images labeled as cat or non-cat\n",
    "- each image is of shape `(num_px, num_px, 3)` where 3 is for the 3 channels (RGB). Thus, each image is square (height = num_px) and (width = num_px).\n",
    "\n",
    "You will build a simple image-recognition algorithm that can correctly classify pictures as cat or non-cat.\n",
    "\n",
    "Let's get more familiar with the dataset. Load the data by running the following code."
   ]
  },
  {
   "cell_type": "code",
   "execution_count": 5,
   "metadata": {},
   "outputs": [
    {
     "name": "stdout",
     "output_type": "stream",
     "text": [
      "(209, 64, 64, 3) (1, 209)\n"
     ]
    }
   ],
   "source": [
    "def loadDataset():\n",
    "    trainDataset = h5py.File(\"datasets/train_catvnoncat.h5\", \"r\")\n",
    "    trainDatasetX = np.array(trainDataset[\"train_set_x\"][:])\n",
    "    trainDatasetY = np.array(trainDataset[\"train_set_y\"][:])\n",
    "    \n",
    "    testDataset = h5py.File(\"datasets/test_catvnoncat.h5\")\n",
    "    testDatasetX = np.array(testDataset[\"test_set_x\"][:])\n",
    "    testDatasetY = np.array(testDataset[\"test_set_y\"][:])\n",
    "\n",
    "    classes = np.array(trainDataset[\"list_classes\"][:])\n",
    "\n",
    "    trainDatasetY = trainDatasetY.reshape((1, trainDatasetY.shape[0]))\n",
    "    testDatasetY = testDatasetY.reshape((1, testDatasetY.shape[0]))\n",
    "    return trainDatasetX, trainDatasetY, testDatasetX, testDatasetY, classes\n",
    "\n",
    "trainDatasetX, trainDatasetY, testDatasetX, testDatasetY, classes = loadDataset()\n",
    "print(trainDatasetX.shape, trainDatasetY.shape)"
   ]
  },
  {
   "cell_type": "markdown",
   "metadata": {},
   "source": [
    "Each line of your train_set_x_orig and test_set_x_orig is an array representing an image. You can visualize an example by running the following code. Feel free also to change the `index` value and re-run to see other images. "
   ]
  },
  {
   "cell_type": "code",
   "execution_count": 6,
   "metadata": {},
   "outputs": [
    {
     "data": {
      "image/png": "[encoded data removed]",
      "text/plain": [
       "<Figure size 640x480 with 1 Axes>"
      ]
     },
     "metadata": {},
     "output_type": "display_data"
    },
    {
     "name": "stdout",
     "output_type": "stream",
     "text": [
      "y = 0, it's a 'non-cat' picture.\n"
     ]
    }
   ],
   "source": [
    "index = 208\n",
    "plt.imshow(trainDatasetX[index])\n",
    "plt.show()\n",
    "print (\"y = \" + str(trainDatasetY[0, index]) + \", it's a '\" + classes[np.squeeze(trainDatasetY[:, index])].decode(\"utf-8\") +  \"' picture.\")"
   ]
  },
  {
   "cell_type": "markdown",
   "metadata": {},
   "source": [
    "Find the values for:\n",
    "- m_train (number of training examples)\n",
    "- m_test (number of test examples)\n",
    "- num_px (= height = width of a training image)  \n",
    "Remember that `train_set_x_orig` is a numpy-array of shape (m_train, num_px, num_px, 3). For instance, you can access `m_train` by writing `train_set_x_orig.shape[0]`."
   ]
  },
  {
   "cell_type": "code",
   "execution_count": 7,
   "metadata": {},
   "outputs": [
    {
     "name": "stdout",
     "output_type": "stream",
     "text": [
      "Number of training examples:  209\n",
      "Number of testing examples:  50\n",
      "Height of image:  64 px\n",
      "Shape of image:  (64, 64, 3)\n",
      "Shape of training dataset X:  (209, 64, 64, 3)\n",
      "Shape of training dataset Y:  (1, 209)\n"
     ]
    }
   ],
   "source": [
    "m_train = trainDatasetY.shape[1]\n",
    "m_test = testDatasetY.shape[1]\n",
    "num_px = trainDatasetX.shape[1]\n",
    "\n",
    "# let's print some usefull imformation\n",
    "print(\"Number of training examples: \", m_train)\n",
    "print(\"Number of testing examples: \", m_test)\n",
    "print(\"Height of image: \", num_px, \"px\")\n",
    "print(\"Shape of image: \", trainDatasetX[0].shape)\n",
    "print(\"Shape of training dataset X: \", trainDatasetX.shape)\n",
    "print(\"Shape of training dataset Y: \", trainDatasetY.shape)"
   ]
  },
  {
   "cell_type": "markdown",
   "metadata": {},
   "source": [
    "For convenience, you should now reshape images of shape (num_px, num_px, 3) in a numpy-array of shape (num_px $*$ num_px $*$ 3, 1). After this, our training (and test) dataset is a numpy-array where each column represents a flattened image. There should be m_train (respectively m_test) columns.\n",
    "\n",
    "A trick when you want to flatten a matrix X of shape (a,b,c,d) to a matrix X_flatten of shape (b * c * d, a) is to use: \n",
    "```\n",
    "X_flatten = X.reshape(X.shape[0], -1).T\n",
    "```"
   ]
  },
  {
   "cell_type": "code",
   "execution_count": 8,
   "metadata": {},
   "outputs": [
    {
     "name": "stdout",
     "output_type": "stream",
     "text": [
      "Shape of XFlatten:  (12288, 209)\n",
      "Shape of XTestFlatten:  (12288, 50)\n"
     ]
    }
   ],
   "source": [
    "XTrainFlatten = trainDatasetX.reshape(trainDatasetX.shape[0],-1).T\n",
    "XTestFlatten = testDatasetX.reshape(testDatasetX.shape[0],-1).T\n",
    "print(\"Shape of XFlatten: \", XTrainFlatten.shape)\n",
    "print(\"Shape of XTestFlatten: \", XTestFlatten.shape)"
   ]
  },
  {
   "cell_type": "markdown",
   "metadata": {},
   "source": [
    "To represent color images, the red, green and blue channels (RGB) must be specified for each pixel, and so the pixel value is actually a vector of three numbers ranging from 0 to 255.\n",
    "\n",
    "One common preprocessing step in machine learning is to center and standardize your dataset, meaning that you substract the mean of the whole numpy array from each example, and then divide each example by the standard deviation of the whole numpy array. But for picture datasets, it is simpler and more convenient and works almost as well to just divide every row of the dataset by 255 (the maximum value of a pixel channel)."
   ]
  },
  {
   "cell_type": "code",
   "execution_count": 9,
   "metadata": {},
   "outputs": [],
   "source": [
    "XTrainFlatten = XTrainFlatten / 255\n",
    "XTestFlatten = XTestFlatten / 255"
   ]
  },
  {
   "cell_type": "markdown",
   "metadata": {},
   "source": [
    "Sigmoid Function"
   ]
  },
  {
   "cell_type": "code",
   "execution_count": 10,
   "metadata": {},
   "outputs": [],
   "source": [
    "def sigmoid(z):\n",
    "    return 1/(1+np.exp(-z))"
   ]
  },
  {
   "cell_type": "markdown",
   "metadata": {},
   "source": [
    "Initialize Parameters"
   ]
  },
  {
   "cell_type": "code",
   "execution_count": 11,
   "metadata": {},
   "outputs": [],
   "source": [
    "def initializeParameters(dim):\n",
    "    w = np.zeros((12288,1))\n",
    "    b = 0\n",
    "    return w, b"
   ]
  },
  {
   "cell_type": "markdown",
   "metadata": {},
   "source": [
    "## Logistic Regression \n",
    "#### Forward Propagation\n",
    "$$\n",
    "Z = W^T X + b  \\\\\n",
    "A = sigmoid(X) \\\\\n",
    "$$\n",
    "#### Calculate Cost\n",
    "$$\n",
    "J = -\\frac{1}{m}\\sum_{i=1}^{m}y^{(i)}\\log(a^{(i)})+(1-y^{(i)})\\log(1-a^{(i)})\n",
    "$$\n",
    "#### Backward Propagation\n",
    "$$ \\partial W = \\frac{\\partial J}{\\partial W} = \\frac{1}{m}X(A-Y)^T\\tag{7}$$\n",
    "$$ \\partial b = \\frac{\\partial J}{\\partial b} = \\frac{1}{m} \\sum_{i=1}^m (a^{(i)}-y^{(i)})\\tag{8}$$\n",
    "#### Parameter Updation\n",
    "$$ W = W - \\alpha \\text{ } \\partial W $$\n",
    "$$ b = b - \\alpha \\text{ } \\partial b $$"
   ]
  },
  {
   "cell_type": "markdown",
   "metadata": {},
   "source": [
    "Let's implements forward propagation, cost calculation and backward propagation in one function"
   ]
  },
  {
   "cell_type": "code",
   "execution_count": 15,
   "metadata": {},
   "outputs": [],
   "source": [
    "def propagate(w, b, X, Y):\n",
    "    m = Y.shape[1]\n",
    "\n",
    "    #forward prop\n",
    "    Z = np.dot(w.T,X)+b\n",
    "    A = sigmoid(Z)\n",
    "    #cost calculation\n",
    "    cost = -(np.sum(Y*np.log(A)+(1-Y)*np.log(1-A)))/m\n",
    "\n",
    "    #backward prop\n",
    "    db = np.sum(A-Y)/m\n",
    "    dw = (np.dot(X,(A-Y).T))/m\n",
    "    grad = {\"dw\": dw,\n",
    "            \"db\": db}\n",
    "    \n",
    "    return grad, cost"
   ]
  },
  {
   "cell_type": "markdown",
   "metadata": {},
   "source": [
    "Implement gradient decent for training our weights"
   ]
  },
  {
   "cell_type": "code",
   "execution_count": 16,
   "metadata": {},
   "outputs": [],
   "source": [
    "def train_model(X, Y, numIterations, learningRate, printCost = False):\n",
    "    nx = X.shape[0]\n",
    "    m = X.shape[1]\n",
    "    w, b = initializeParameters(nx)\n",
    "    costs = []\n",
    "\n",
    "    for i in range(numIterations):\n",
    "        #forward propagation, cost calculation and backward propagation\n",
    "        grad, cost = propagate(w, b, X, Y)\n",
    "        costs.append(cost)\n",
    "        #update weights\n",
    "        w =w-learningRate*grad[\"dw\"]\n",
    "        b = b-learningRate*grad[\"db\"]\n",
    "\n",
    "        if(printCost and i%100==0):\n",
    "            print(f\"Cost after {i} iterations: {cost}\")\n",
    "    \n",
    "    params = {\"w\": w,\n",
    "              \"b\": b}\n",
    "    \n",
    "    return params, costs"
   ]
  },
  {
   "cell_type": "code",
   "execution_count": 21,
   "metadata": {},
   "outputs": [
    {
     "name": "stdout",
     "output_type": "stream",
     "text": [
      "Cost after 0 iterations: 0.6931471805599453\n",
      "Cost after 100 iterations: 0.5845083636993088\n",
      "Cost after 200 iterations: 0.46694904094655465\n",
      "Cost after 300 iterations: 0.37600686694802077\n",
      "Cost after 400 iterations: 0.33146328932825125\n",
      "Cost after 500 iterations: 0.3032730674743828\n",
      "Cost after 600 iterations: 0.27987958658260487\n",
      "Cost after 700 iterations: 0.2600421369258757\n",
      "Cost after 800 iterations: 0.24294068467796612\n",
      "Cost after 900 iterations: 0.2280042225672607\n",
      "Cost after 1000 iterations: 0.21481951378449643\n",
      "Cost after 1100 iterations: 0.2030781906064499\n",
      "Cost after 1200 iterations: 0.1925442771670686\n",
      "Cost after 1300 iterations: 0.18303333796883514\n",
      "Cost after 1400 iterations: 0.17439859438448874\n",
      "Cost after 1500 iterations: 0.1665213970540033\n",
      "Cost after 1600 iterations: 0.15930451829756614\n",
      "Cost after 1700 iterations: 0.15266732471296507\n",
      "Cost after 1800 iterations: 0.14654223503982342\n"
     ]
    }
   ],
   "source": [
    "params, costs = train_model(XTrainFlatten, trainDatasetY, numIterations = 1900, learningRate = 0.005, printCost = True)"
   ]
  },
  {
   "cell_type": "markdown",
   "metadata": {},
   "source": [
    "Let's see how cost decrease with iterations"
   ]
  },
  {
   "cell_type": "code",
   "execution_count": 22,
   "metadata": {},
   "outputs": [
    {
     "data": {
      "image/png": "[encoded data removed]",
      "text/plain": [
       "<Figure size 640x480 with 1 Axes>"
      ]
     },
     "metadata": {},
     "output_type": "display_data"
    }
   ],
   "source": [
    "plt.plot(costs)\n",
    "plt.show()"
   ]
  },
  {
   "cell_type": "markdown",
   "metadata": {},
   "source": [
    "Let's Predict out model's output on train and test images and and see how our model performed"
   ]
  },
  {
   "cell_type": "code",
   "execution_count": 20,
   "metadata": {},
   "outputs": [
    {
     "name": "stdout",
     "output_type": "stream",
     "text": [
      "train accuracy: 99.04306220095694\n",
      "test accuracy: 70.0\n"
     ]
    }
   ],
   "source": [
    "def predict(params, X, Y):\n",
    "    w = params[\"w\"]\n",
    "    b = params[\"b\"]\n",
    "    Z = w.T.dot(X) + b\n",
    "    A = sigmoid(Z)\n",
    "    Y_Prediction = (A > 0.5) * 1.0\n",
    "    return Y_Prediction\n",
    "\n",
    "#checking accuracy\n",
    "trainPrediction = predict(params, XTrainFlatten, trainDatasetY)\n",
    "testPrediction = predict(params, XTestFlatten, testDatasetY)\n",
    "print(f\"train accuracy: {100-np.mean(np.abs(trainPrediction-trainDatasetY))*100}\")\n",
    "print(f\"test accuracy: {100-np.mean(np.abs(testPrediction-testDatasetY))*100}\")"
   ]
  },
  {
   "cell_type": "code",
   "execution_count": null,
   "metadata": {},
   "outputs": [],
   "source": []
  }
 ],
 "metadata": {
  "kernelspec": {
   "display_name": "Python 3",
   "language": "python",
   "name": "python3"
  },
  "language_info": {
   "codemirror_mode": {
    "name": "ipython",
    "version": 3
   },
   "file_extension": ".py",
   "mimetype": "text/x-python",
   "name": "python",
   "nbconvert_exporter": "python",
   "pygments_lexer": "ipython3",
   "version": "3.12.3"
  }
 },
 "nbformat": 4,
 "nbformat_minor": 2
}
