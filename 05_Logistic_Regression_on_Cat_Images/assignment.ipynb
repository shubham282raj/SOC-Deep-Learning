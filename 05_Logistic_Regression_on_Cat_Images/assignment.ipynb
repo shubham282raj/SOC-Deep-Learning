{
 "cells": [
  {
   "cell_type": "markdown",
   "metadata": {},
   "source": [
    "# Introduction to Deep Learning"
   ]
  },
  {
   "cell_type": "code",
   "execution_count": 596,
   "metadata": {},
   "outputs": [],
   "source": [
    "import numpy as np\n",
    "import matplotlib.pyplot as plt\n",
    "import h5py"
   ]
  },
  {
   "cell_type": "markdown",
   "metadata": {},
   "source": [
    "You are given a dataset containing:\n",
    "- a training set of m_train images labeled as cat (y=1) or non-cat (y=0)\n",
    "- a test set of m_test images labeled as cat or non-cat\n",
    "- each image is of shape `(num_px, num_px, 3)` where 3 is for the 3 channels (RGB). Thus, each image is square (height = num_px) and (width = num_px).\n",
    "\n",
    "You will build a simple image-recognition algorithm that can correctly classify pictures as cat or non-cat.\n",
    "\n",
    "Let's get more familiar with the dataset. Load the data by running the following code."
   ]
  },
  {
   "cell_type": "code",
   "execution_count": 597,
   "metadata": {},
   "outputs": [
    {
     "name": "stdout",
     "output_type": "stream",
     "text": [
      "(209, 64, 64, 3) (1, 209)\n"
     ]
    }
   ],
   "source": [
    "def loadDataset():\n",
    "    trainDataset = h5py.File(\"datasets/train_catvnoncat.h5\", \"r\")\n",
    "    trainDatasetX = np.array(trainDataset[\"train_set_x\"][:])\n",
    "    trainDatasetY = np.array(trainDataset[\"train_set_y\"][:])\n",
    "    \n",
    "    testDataset = h5py.File(\"datasets/test_catvnoncat.h5\",\"r\")\n",
    "    testDatasetX = np.array(testDataset[\"test_set_x\"][:])\n",
    "    testDatasetY = np.array(testDataset[\"test_set_y\"][:])\n",
    "\n",
    "    classes = np.array(trainDataset[\"list_classes\"][:])\n",
    "\n",
    "    trainDatasetY = trainDatasetY.reshape((1, trainDatasetY.shape[0]))\n",
    "    testDatasetY = testDatasetY.reshape((1, testDatasetY.shape[0]))\n",
    "    return trainDatasetX, trainDatasetY, testDatasetX, testDatasetY, classes\n",
    "\n",
    "trainDatasetX, trainDatasetY, testDatasetX, testDatasetY, classes = loadDataset()\n",
    "print(trainDatasetX.shape, trainDatasetY.shape)"
   ]
  },
  {
   "cell_type": "markdown",
   "metadata": {},
   "source": [
    "Each line of your train_set_x_orig and test_set_x_orig is an array representing an image. You can visualize an example by running the following code. Feel free also to change the `index` value and re-run to see other images. "
   ]
  },
  {
   "cell_type": "code",
   "execution_count": 598,
   "metadata": {},
   "outputs": [
    {
     "data": {
      "image/png": "[encoded data removed]",
      "text/plain": [
       "<Figure size 640x480 with 1 Axes>"
      ]
     },
     "metadata": {},
     "output_type": "display_data"
    },
    {
     "name": "stdout",
     "output_type": "stream",
     "text": [
      "y = 1, it's a 'cat' picture.\n"
     ]
    }
   ],
   "source": [
    "index = 111\n",
    "plt.imshow(trainDatasetX[index])\n",
    "plt.show()\n",
    "print (\"y = \" + str(trainDatasetY[0, index]) + \", it's a '\" + classes[np.squeeze(trainDatasetY[:, index])].decode(\"utf-8\") +  \"' picture.\")"
   ]
  },
  {
   "cell_type": "markdown",
   "metadata": {},
   "source": [
    "Find the values for:\n",
    "- m_train (number of training examples)\n",
    "- m_test (number of test examples)\n",
    "- num_px (= height = width of a training image)  \n",
    "Remember that `train_set_x_orig` is a numpy-array of shape (m_train, num_px, num_px, 3). For instance, you can access `m_train` by writing `train_set_x_orig.shape[0]`."
   ]
  },
  {
   "cell_type": "code",
   "execution_count": 599,
   "metadata": {},
   "outputs": [
    {
     "name": "stdout",
     "output_type": "stream",
     "text": [
      "Number of training examples:  209\n",
      "Number of testing examples:  50\n",
      "Height of image:  64 px\n",
      "Shape of image:  (64, 64, 3)\n",
      "Shape of training dataset X:  (209, 64, 64, 3)\n",
      "Shape of training dataset Y:  (1, 209)\n"
     ]
    }
   ],
   "source": [
    "m_train = trainDatasetX.shape[0]\n",
    "m_test = testDatasetX.shape[0]\n",
    "num_px = trainDatasetX.shape[1]\n",
    "\n",
    "# let's print some usefull imformation\n",
    "print(\"Number of training examples: \", m_train)\n",
    "print(\"Number of testing examples: \", m_test)\n",
    "print(\"Height of image: \", num_px, \"px\")\n",
    "print(\"Shape of image: \", trainDatasetX[0].shape)\n",
    "print(\"Shape of training dataset X: \", trainDatasetX.shape)\n",
    "print(\"Shape of training dataset Y: \", trainDatasetY.shape)"
   ]
  },
  {
   "cell_type": "markdown",
   "metadata": {},
   "source": [
    "For convenience, you should now reshape images of shape (num_px, num_px, 3) in a numpy-array of shape (num_px $*$ num_px $*$ 3, 1). After this, our training (and test) dataset is a numpy-array where each column represents a flattened image. There should be m_train (respectively m_test) columns.\n",
    "\n",
    "A trick when you want to flatten a matrix X of shape (a,b,c,d) to a matrix X_flatten of shape (b * c * d, a) is to use: \n",
    "```\n",
    "X_flatten = X.reshape(X.shape[0], -1).T\n",
    "```"
   ]
  },
  {
   "cell_type": "code",
   "execution_count": 600,
   "metadata": {},
   "outputs": [
    {
     "name": "stdout",
     "output_type": "stream",
     "text": [
      "Shape of XFlatten:  (12288, 209)\n",
      "Shape of XTestFlatten:  (12288, 50)\n"
     ]
    }
   ],
   "source": [
    "XTrainFlatten = trainDatasetX.reshape(trainDatasetX.shape[0],-1).T\n",
    "XTestFlatten = testDatasetX.reshape(testDatasetX.shape[0],-1).T\n",
    "print(\"Shape of XFlatten: \", XTrainFlatten.shape)\n",
    "print(\"Shape of XTestFlatten: \", XTestFlatten.shape)"
   ]
  },
  {
   "cell_type": "markdown",
   "metadata": {},
   "source": [
    "To represent color images, the red, green and blue channels (RGB) must be specified for each pixel, and so the pixel value is actually a vector of three numbers ranging from 0 to 255.\n",
    "\n",
    "One common preprocessing step in machine learning is to center and standardize your dataset, meaning that you substract the mean of the whole numpy array from each example, and then divide each example by the standard deviation of the whole numpy array. But for picture datasets, it is simpler and more convenient and works almost as well to just divide every row of the dataset by 255 (the maximum value of a pixel channel)."
   ]
  },
  {
   "cell_type": "code",
   "execution_count": 601,
   "metadata": {},
   "outputs": [],
   "source": [
    "XTrainFlatten = XTrainFlatten / 255\n",
    "XTestFlatten = XTestFlatten / 255"
   ]
  },
  {
   "cell_type": "markdown",
   "metadata": {},
   "source": [
    "Sigmoid Function"
   ]
  },
  {
   "cell_type": "code",
   "execution_count": 602,
   "metadata": {},
   "outputs": [],
   "source": [
    "def sigmoid(z):\n",
    "    return 1/(1+np.exp(-z))"
   ]
  },
  {
   "cell_type": "markdown",
   "metadata": {},
   "source": [
    "Initialize Parameters"
   ]
  },
  {
   "cell_type": "code",
   "execution_count": 603,
   "metadata": {},
   "outputs": [],
   "source": [
    "def initializeParameters(dim):\n",
    "    # print(\"dim=\",dim)\n",
    "    w = np.zeros((dim,1))\n",
    "    b = np.zeros(1)\n",
    "    return w, b"
   ]
  },
  {
   "cell_type": "markdown",
   "metadata": {},
   "source": [
    "## Logistic Regression \n",
    "#### Forward Propagation\n",
    "$$\n",
    "Z = W^T X + b  \\\\\n",
    "A = sigmoid(X) \\\\\n",
    "$$\n",
    "#### Calculate Cost\n",
    "$$\n",
    "J = -\\frac{1}{m}\\sum_{i=1}^{m}y^{(i)}\\log(a^{(i)})+(1-y^{(i)})\\log(1-a^{(i)})\n",
    "$$\n",
    "#### Backward Propagation\n",
    "$$ \\partial W = \\frac{\\partial J}{\\partial W} = \\frac{1}{m}X(A-Y)^T\\tag{7}$$\n",
    "$$ \\partial b = \\frac{\\partial J}{\\partial b} = \\frac{1}{m} \\sum_{i=1}^m (a^{(i)}-y^{(i)})\\tag{8}$$\n",
    "#### Parameter Updation\n",
    "$$ W = W - \\alpha \\text{ } \\partial W $$\n",
    "$$ b = b - \\alpha \\text{ } \\partial b $$"
   ]
  },
  {
   "cell_type": "markdown",
   "metadata": {},
   "source": [
    "Let's implements forward propagation, cost calculation and backward propagation in one function"
   ]
  },
  {
   "cell_type": "code",
   "execution_count": 604,
   "metadata": {},
   "outputs": [],
   "source": [
    "def propagate(w, b, X, Y):\n",
    "    m = X.shape[1]\n",
    "#     print(\"w shape: \",w.shape)\n",
    "    #forward prop\n",
    "    Z = np.dot(w.T,X)+b\n",
    "#     print(\"Z shape: \",Z.shape)\n",
    "    A = sigmoid(Z)\n",
    "#     print(\"A shape: \",A.shape)\n",
    "#     print(\"Y shape: \",Y.shape)\n",
    "    #cost calculation\n",
    "    cost = (-1)*(1/m)*(np.dot(np.log(A),Y.T)+np.dot(np.log(1-A),(1-Y.T)))\n",
    "    # print((\"cost shape, \"), cost.shape)\n",
    "    cost = np.squeeze(cost)\n",
    "    #backward prop\n",
    "    db = np.mean(A-Y)\n",
    "    dw = (1/m)*np.dot(X,(A-Y).T)\n",
    "    grad = {\"dw\": dw,\n",
    "            \"db\": db}\n",
    "    \n",
    "    return grad, cost"
   ]
  },
  {
   "cell_type": "markdown",
   "metadata": {},
   "source": [
    "Implement gradient decent for training our weights"
   ]
  },
  {
   "cell_type": "code",
   "execution_count": 605,
   "metadata": {},
   "outputs": [],
   "source": [
    "def train_model(X, Y, numIterations, learningRate, printCost = False):\n",
    "    nx = X.shape[0]\n",
    "    m = X.shape[1]\n",
    "    # print(\"Xshape \",X.shape)\n",
    "    # print(\"nx=\",nx)\n",
    "    w, b = initializeParameters(nx)\n",
    "    costs = []\n",
    "\n",
    "    for i in range(numIterations):\n",
    "        #forward propagation, cost calculation and backward propagation\n",
    "        grad, cost = propagate(w, b, X, Y)\n",
    "        costs.append(cost)\n",
    "        #update weights\n",
    "        w -= learningRate*grad[\"dw\"]\n",
    "        b -= learningRate*grad[\"db\"]\n",
    "\n",
    "        if(printCost and i%100==0):\n",
    "            print(f\"Cost after {i} iterations: {cost}\")\n",
    "    \n",
    "    params = {\"w\": w,\n",
    "              \"b\": b}\n",
    "    \n",
    "    return params, costs"
   ]
  },
  {
   "cell_type": "code",
   "execution_count": 606,
   "metadata": {},
   "outputs": [
    {
     "name": "stdout",
     "output_type": "stream",
     "text": [
      "Cost after 0 iterations: 0.6931471805599453\n"
     ]
    },
    {
     "name": "stdout",
     "output_type": "stream",
     "text": [
      "Cost after 100 iterations: 0.5845083636993087\n",
      "Cost after 200 iterations: 0.4669490409465547\n",
      "Cost after 300 iterations: 0.37600686694802077\n",
      "Cost after 400 iterations: 0.3314632893282512\n",
      "Cost after 500 iterations: 0.30327306747438304\n",
      "Cost after 600 iterations: 0.27987958658260487\n",
      "Cost after 700 iterations: 0.2600421369258757\n",
      "Cost after 800 iterations: 0.2429406846779662\n",
      "Cost after 900 iterations: 0.2280042225672606\n",
      "Cost after 1000 iterations: 0.21481951378449635\n",
      "Cost after 1100 iterations: 0.20307819060644985\n",
      "Cost after 1200 iterations: 0.19254427716706862\n",
      "Cost after 1300 iterations: 0.18303333796883509\n",
      "Cost after 1400 iterations: 0.17439859438448874\n",
      "Cost after 1500 iterations: 0.16652139705400335\n",
      "Cost after 1600 iterations: 0.15930451829756614\n",
      "Cost after 1700 iterations: 0.15266732471296504\n",
      "Cost after 1800 iterations: 0.1465422350398234\n",
      "Cost after 1900 iterations: 0.1408720757031016\n",
      "Cost after 2000 iterations: 0.1356080752591202\n",
      "Cost after 2100 iterations: 0.13070832130477317\n",
      "Cost after 2200 iterations: 0.12613655733642845\n",
      "Cost after 2300 iterations: 0.12186123310162926\n",
      "Cost after 2400 iterations: 0.1178547465270407\n",
      "Cost after 2500 iterations: 0.11409283226927099\n",
      "Cost after 2600 iterations: 0.11055406382501505\n",
      "Cost after 2700 iterations: 0.10721944457861761\n",
      "Cost after 2800 iterations: 0.10407206923216959\n",
      "Cost after 2900 iterations: 0.10109684147524375\n",
      "Cost after 3000 iterations: 0.09828023699678214\n",
      "Cost after 3100 iterations: 0.09561010335573056\n",
      "Cost after 3200 iterations: 0.09307549004229355\n",
      "Cost after 3300 iterations: 0.09066650344102875\n",
      "Cost after 3400 iterations: 0.08837418246564321\n",
      "Cost after 3500 iterations: 0.08619039145561948\n",
      "Cost after 3600 iterations: 0.08410772756609208\n",
      "Cost after 3700 iterations: 0.08211944038800706\n",
      "Cost after 3800 iterations: 0.08021936193738759\n",
      "Cost after 3900 iterations: 0.07840184547417221\n",
      "Cost after 4000 iterations: 0.07666171187034188\n",
      "Cost after 4100 iterations: 0.07499420245735221\n",
      "Cost after 4200 iterations: 0.07339493745449005\n",
      "Cost after 4300 iterations: 0.07185987922058308\n",
      "Cost after 4400 iterations: 0.07038529968762712\n",
      "Cost after 4500 iterations: 0.06896775143115182\n",
      "Cost after 4600 iterations: 0.0676040419122808\n",
      "Cost after 4700 iterations: 0.06629121049345109\n",
      "Cost after 4800 iterations: 0.06502650788600445\n",
      "Cost after 4900 iterations: 0.06380737773526818\n",
      "Cost after 5000 iterations: 0.0626314400888294\n",
      "Cost after 5100 iterations: 0.06149647652772852\n",
      "Cost after 5200 iterations: 0.06040041676925935\n",
      "Cost after 5300 iterations: 0.0593413265747969\n",
      "Cost after 5400 iterations: 0.05831739681725897\n",
      "Cost after 5500 iterations: 0.05732693358100138\n",
      "Cost after 5600 iterations: 0.05636834918261737\n",
      "Cost after 5700 iterations: 0.05544015401463929\n",
      "Cost after 5800 iterations: 0.05454094912585191\n",
      "Cost after 5900 iterations: 0.0536694194620861\n",
      "Cost after 6000 iterations: 0.05282432770019418\n",
      "Cost after 6100 iterations: 0.052004508615609325\n",
      "Cost after 6200 iterations: 0.051208863930612684\n",
      "Cost after 6300 iterations: 0.05043635759631635\n",
      "Cost after 6400 iterations: 0.049686011466528075\n",
      "Cost after 6500 iterations: 0.04895690132619619\n",
      "Cost after 6600 iterations: 0.04824815324111989\n",
      "Cost after 6700 iterations: 0.047558940199127736\n",
      "Cost after 6800 iterations: 0.046888479016030764\n",
      "Cost after 6900 iterations: 0.046236027482405205\n",
      "Cost after 7000 iterations: 0.045600881729692205\n",
      "Cost after 7100 iterations: 0.04498237379626365\n",
      "Cost after 7200 iterations: 0.04437986937602174\n",
      "Cost after 7300 iterations: 0.04379276573380952\n",
      "Cost after 7400 iterations: 0.0432204897734334\n",
      "Cost after 7500 iterations: 0.04266249624545787\n",
      "Cost after 7600 iterations: 0.04211826608314846\n",
      "Cost after 7700 iterations: 0.041587304856027914\n",
      "Cost after 7800 iterations: 0.04106914133148437\n",
      "Cost after 7900 iterations: 0.04056332613574731\n",
      "Cost after 8000 iterations: 0.040069430506331674\n",
      "Cost after 8100 iterations: 0.03958704512875925\n",
      "Cost after 8200 iterations: 0.03911577905100335\n",
      "Cost after 8300 iterations: 0.038655258669677055\n",
      "Cost after 8400 iterations: 0.03820512678250409\n",
      "Cost after 8500 iterations: 0.03776504170208086\n",
      "Cost after 8600 iterations: 0.037334676426360985\n",
      "Cost after 8700 iterations: 0.0369137178616794\n",
      "Cost after 8800 iterations: 0.036501866094479765\n",
      "Cost after 8900 iterations: 0.036098833708226384\n",
      "Cost after 9000 iterations: 0.03570434514226787\n",
      "Cost after 9100 iterations: 0.035318136089681935\n",
      "Cost after 9200 iterations: 0.03493995293136727\n",
      "Cost after 9300 iterations: 0.03456955220386594\n",
      "Cost after 9400 iterations: 0.03420670009859699\n",
      "Cost after 9500 iterations: 0.033851171990361806\n",
      "Cost after 9600 iterations: 0.03350275199314678\n",
      "Cost after 9700 iterations: 0.03316123254139943\n",
      "Cost after 9800 iterations: 0.03282641399509205\n",
      "Cost after 9900 iterations: 0.032498104267012586\n",
      "Cost after 10000 iterations: 0.032176118470838906\n",
      "Cost after 10100 iterations: 0.03186027858865825\n",
      "Cost after 10200 iterations: 0.03155041315669132\n",
      "Cost after 10300 iterations: 0.031246356968070033\n",
      "Cost after 10400 iterations: 0.030947950791600322\n",
      "Cost after 10500 iterations: 0.0306550411055169\n",
      "Cost after 10600 iterations: 0.03036747984530733\n",
      "Cost after 10700 iterations: 0.03008512416474635\n",
      "Cost after 10800 iterations: 0.029807836209341288\n",
      "Cost after 10900 iterations: 0.029535482901443696\n",
      "Cost after 11000 iterations: 0.029267935736333798\n",
      "Cost after 11100 iterations: 0.029005070588629722\n",
      "Cost after 11200 iterations: 0.028746767528418007\n",
      "Cost after 11300 iterations: 0.028492910646541435\n",
      "Cost after 11400 iterations: 0.02824338788851695\n",
      "Cost after 11500 iterations: 0.027998090896591367\n",
      "Cost after 11600 iterations: 0.027756914859473965\n",
      "Cost after 11700 iterations: 0.027519758369315046\n",
      "Cost after 11800 iterations: 0.02728652328552645\n",
      "Cost after 11900 iterations: 0.02705711460506603\n",
      "Cost after 12000 iterations: 0.026831440338831187\n",
      "Cost after 12100 iterations: 0.026609411393829767\n",
      "Cost after 12200 iterations: 0.02639094146081506\n",
      "Cost after 12300 iterations: 0.02617594690709334\n",
      "Cost after 12400 iterations: 0.025964346674227808\n",
      "Cost after 12500 iterations: 0.025756062180381147\n",
      "Cost after 12600 iterations: 0.02555101722705299\n",
      "Cost after 12700 iterations: 0.025349137909984356\n",
      "Cost after 12800 iterations: 0.02515035253401346\n",
      "Cost after 12900 iterations: 0.024954591531680347\n",
      "Cost after 13000 iterations: 0.024761787385389908\n",
      "Cost after 13100 iterations: 0.024571874552953343\n",
      "Cost after 13200 iterations: 0.02438478939633833\n",
      "Cost after 13300 iterations: 0.02420047011346854\n",
      "Cost after 13400 iterations: 0.0240188566729214\n",
      "Cost after 13500 iterations: 0.02383989075138167\n",
      "Cost after 13600 iterations: 0.023663515673716815\n",
      "Cost after 13700 iterations: 0.023489676355546604\n",
      "Cost after 13800 iterations: 0.02331831924818748\n",
      "Cost after 13900 iterations: 0.023149392285857776\n",
      "Cost after 14000 iterations: 0.02298284483503675\n",
      "Cost after 14100 iterations: 0.022818627645875864\n",
      "Cost after 14200 iterations: 0.0226566928055659\n",
      "Cost after 14300 iterations: 0.022496993693569223\n",
      "Cost after 14400 iterations: 0.022339484938631072\n",
      "Cost after 14500 iterations: 0.022184122377487507\n",
      "Cost after 14600 iterations: 0.022030863015193535\n",
      "Cost after 14700 iterations: 0.021879664986997133\n",
      "Cost after 14800 iterations: 0.02173048752169008\n",
      "Cost after 14900 iterations: 0.021583290906369113\n",
      "Cost after 15000 iterations: 0.021438036452545002\n",
      "Cost after 15100 iterations: 0.021294686463539658\n",
      "Cost after 15200 iterations: 0.021153204203114735\n",
      "Cost after 15300 iterations: 0.02101355386527836\n",
      "Cost after 15400 iterations: 0.02087570054521808\n",
      "Cost after 15500 iterations: 0.020739610211312282\n",
      "Cost after 15600 iterations: 0.02060524967817324\n",
      "Cost after 15700 iterations: 0.020472586580678104\n",
      "Cost after 15800 iterations: 0.020341589348946035\n",
      "Cost after 15900 iterations: 0.020212227184221363\n",
      "Cost after 16000 iterations: 0.020084470035625062\n",
      "Cost after 16100 iterations: 0.01995828857773842\n",
      "Cost after 16200 iterations: 0.019833654188984348\n",
      "Cost after 16300 iterations: 0.01971053893077349\n",
      "Cost after 16400 iterations: 0.019588915527384152\n",
      "Cost after 16500 iterations: 0.01946875734654564\n",
      "Cost after 16600 iterations: 0.019350038380697238\n",
      "Cost after 16700 iterations: 0.019232733228895176\n",
      "Cost after 16800 iterations: 0.019116817079341774\n",
      "Cost after 16900 iterations: 0.019002265692512163\n",
      "Cost after 17000 iterations: 0.018889055384854917\n",
      "Cost after 17100 iterations: 0.01877716301304386\n",
      "Cost after 17200 iterations: 0.01866656595875973\n",
      "Cost after 17300 iterations: 0.018557242113980854\n",
      "Cost after 17400 iterations: 0.018449169866763423\n",
      "Cost after 17500 iterations: 0.018342328087492223\n",
      "Cost after 17600 iterations: 0.018236696115584133\n",
      "Cost after 17700 iterations: 0.018132253746626817\n",
      "Cost after 17800 iterations: 0.018028981219936475\n",
      "Cost after 17900 iterations: 0.01792685920651859\n",
      "Cost after 18000 iterations: 0.017825868797416752\n",
      "Cost after 18100 iterations: 0.017725991492435086\n",
      "Cost after 18200 iterations: 0.01762720918922009\n",
      "Cost after 18300 iterations: 0.017529504172689427\n",
      "Cost after 18400 iterations: 0.017432859104793925\n",
      "Cost after 18500 iterations: 0.01733725701460146\n",
      "Cost after 18600 iterations: 0.01724268128869042\n",
      "Cost after 18700 iterations: 0.017149115661842212\n",
      "Cost after 18800 iterations: 0.01705654420802125\n",
      "Cost after 18900 iterations: 0.016964951331632876\n",
      "Cost after 19000 iterations: 0.016874321759048978\n",
      "Cost after 19100 iterations: 0.016784640530391682\n",
      "Cost after 19200 iterations: 0.01669589299156642\n",
      "Cost after 19300 iterations: 0.016608064786535256\n",
      "Cost after 19400 iterations: 0.016521141849822365\n",
      "Cost after 19500 iterations: 0.01643511039924333\n",
      "Cost after 19600 iterations: 0.016349956928850773\n",
      "Cost after 19700 iterations: 0.01626566820208873\n",
      "Cost after 19800 iterations: 0.016182231245148594\n",
      "Cost after 19900 iterations: 0.01609963334052003\n",
      "Cost after 20000 iterations: 0.0160178620207297\n",
      "Cost after 20100 iterations: 0.015936905062262217\n",
      "Cost after 20200 iterations: 0.015856750479656435\n",
      "Cost after 20300 iterations: 0.015777386519771768\n",
      "Cost after 20400 iterations: 0.015698801656218644\n",
      "Cost after 20500 iterations: 0.015620984583947653\n",
      "Cost after 20600 iterations: 0.015543924213992272\n",
      "Cost after 20700 iterations: 0.015467609668359958\n",
      "Cost after 20800 iterations: 0.015392030275066899\n",
      "Cost after 20900 iterations: 0.015317175563311717\n",
      "Cost after 21000 iterations: 0.015243035258783611\n",
      "Cost after 21100 iterations: 0.01516959927910063\n",
      "Cost after 21200 iterations: 0.015096857729373789\n",
      "Cost after 21300 iterations: 0.015024800897893133\n",
      "Cost after 21400 iterations: 0.014953419251931985\n",
      "Cost after 21500 iterations: 0.014882703433665207\n",
      "Cost after 21600 iterations: 0.014812644256198418\n",
      "Cost after 21700 iterations: 0.014743232699704274\n",
      "Cost after 21800 iterations: 0.014674459907662618\n",
      "Cost after 21900 iterations: 0.014606317183201436\n",
      "Cost after 22000 iterations: 0.014538795985535074\n",
      "Cost after 22100 iterations: 0.014471887926497165\n",
      "Cost after 22200 iterations: 0.014405584767165065\n",
      "Cost after 22300 iterations: 0.014339878414573187\n",
      "Cost after 22400 iterations: 0.014274760918512286\n",
      "Cost after 22500 iterations: 0.014210224468412403\n",
      "Cost after 22600 iterations: 0.01414626139030667\n",
      "Cost after 22700 iterations: 0.014082864143873648\n",
      "Cost after 22800 iterations: 0.014020025319555963\n",
      "Cost after 22900 iterations: 0.013957737635752716\n",
      "Cost after 23000 iterations: 0.01389599393608367\n",
      "Cost after 23100 iterations: 0.013834787186723053\n",
      "Cost after 23200 iterations: 0.01377411047380086\n",
      "Cost after 23300 iterations: 0.013713957000869798\n",
      "Cost after 23400 iterations: 0.013654320086435752\n",
      "Cost after 23500 iterations: 0.01359519316155022\n",
      "Cost after 23600 iterations: 0.013536569767462533\n",
      "Cost after 23700 iterations: 0.013478443553330659\n",
      "Cost after 23800 iterations: 0.013420808273988265\n",
      "Cost after 23900 iterations: 0.013363657787767023\n",
      "Cost after 24000 iterations: 0.013306986054372203\n",
      "Cost after 24100 iterations: 0.013250787132810181\n",
      "Cost after 24200 iterations: 0.01319505517936641\n",
      "Cost after 24300 iterations: 0.013139784445632347\n",
      "Cost after 24400 iterations: 0.013084969276580054\n",
      "Cost after 24500 iterations: 0.013030604108683086\n",
      "Cost after 24600 iterations: 0.01297668346808239\n",
      "Cost after 24700 iterations: 0.012923201968795928\n",
      "Cost after 24800 iterations: 0.012870154310970928\n",
      "Cost after 24900 iterations: 0.012817535279177516\n",
      "Cost after 25000 iterations: 0.0127653397407424\n",
      "Cost after 25100 iterations: 0.012713562644122045\n",
      "Cost after 25200 iterations: 0.012662199017313648\n",
      "Cost after 25300 iterations: 0.012611243966303205\n",
      "Cost after 25400 iterations: 0.012560692673549834\n",
      "Cost after 25500 iterations: 0.012510540396504824\n",
      "Cost after 25600 iterations: 0.01246078246616518\n",
      "Cost after 25700 iterations: 0.012411414285660194\n",
      "Cost after 25800 iterations: 0.01236243132887028\n",
      "Cost after 25900 iterations: 0.01231382913907766\n",
      "Cost after 26000 iterations: 0.012265603327647142\n",
      "Cost after 26100 iterations: 0.012217749572737356\n",
      "Cost after 26200 iterations: 0.012170263618040572\n",
      "Cost after 26300 iterations: 0.012123141271551082\n",
      "Cost after 26400 iterations: 0.012076378404361054\n",
      "Cost after 26500 iterations: 0.012029970949483267\n",
      "Cost after 26600 iterations: 0.011983914900700046\n",
      "Cost after 26700 iterations: 0.0119382063114376\n",
      "Cost after 26800 iterations: 0.011892841293665175\n",
      "Cost after 26900 iterations: 0.011847816016818648\n",
      "Cost after 27000 iterations: 0.011803126706747262\n",
      "Cost after 27100 iterations: 0.011758769644683875\n",
      "Cost after 27200 iterations: 0.0117147411662371\n",
      "Cost after 27300 iterations: 0.011671037660405626\n",
      "Cost after 27400 iterations: 0.01162765556861376\n",
      "Cost after 27500 iterations: 0.011584591383767603\n",
      "Cost after 27600 iterations: 0.011541841649331573\n",
      "Cost after 27700 iterations: 0.011499402958424642\n",
      "Cost after 27800 iterations: 0.011457271952935836\n",
      "Cost after 27900 iterations: 0.011415445322658414\n",
      "Cost after 28000 iterations: 0.011373919804442518\n",
      "Cost after 28100 iterations: 0.011332692181365511\n",
      "Cost after 28200 iterations: 0.011291759281919922\n",
      "Cost after 28300 iterations: 0.011251117979218144\n",
      "Cost after 28400 iterations: 0.011210765190214007\n",
      "Cost after 28500 iterations: 0.011170697874940363\n",
      "Cost after 28600 iterations: 0.011130913035762429\n",
      "Cost after 28700 iterations: 0.011091407716646708\n",
      "Cost after 28800 iterations: 0.011052179002444866\n",
      "Cost after 28900 iterations: 0.011013224018192226\n",
      "Cost after 29000 iterations: 0.010974539928420804\n",
      "Cost after 29100 iterations: 0.0109361239364861\n",
      "Cost after 29200 iterations: 0.01089797328390776\n",
      "Cost after 29300 iterations: 0.010860085249723506\n",
      "Cost after 29400 iterations: 0.01082245714985604\n",
      "Cost after 29500 iterations: 0.010785086336492788\n",
      "Cost after 29600 iterations: 0.010747970197478009\n",
      "Cost after 29700 iterations: 0.010711106155717116\n",
      "Cost after 29800 iterations: 0.010674491668592748\n",
      "Cost after 29900 iterations: 0.010638124227392505\n"
     ]
    }
   ],
   "source": [
    "params, costs = train_model(XTrainFlatten, trainDatasetY, numIterations = 30000, learningRate = 0.005, printCost = True)"
   ]
  },
  {
   "cell_type": "markdown",
   "metadata": {},
   "source": [
    "Let's see how cost decrease with iterations"
   ]
  },
  {
   "cell_type": "code",
   "execution_count": 607,
   "metadata": {},
   "outputs": [
    {
     "data": {
      "image/png": "[encoded data removed]",
      "text/plain": [
       "<Figure size 640x480 with 1 Axes>"
      ]
     },
     "metadata": {},
     "output_type": "display_data"
    }
   ],
   "source": [
    "plt.plot(costs)\n",
    "plt.show()"
   ]
  },
  {
   "cell_type": "markdown",
   "metadata": {},
   "source": [
    "Let's Predict out model's output on train and test images and and see how our model performed"
   ]
  },
  {
   "cell_type": "code",
   "execution_count": 608,
   "metadata": {},
   "outputs": [
    {
     "name": "stdout",
     "output_type": "stream",
     "text": [
      "train accuracy: 100.0\n",
      "test accuracy: 72.0\n"
     ]
    }
   ],
   "source": [
    "def predict(params, X, Y):\n",
    "    w = params[\"w\"]\n",
    "    b = params[\"b\"]\n",
    "    Z = w.T.dot(X) + b\n",
    "    A = sigmoid(Z)\n",
    "    Y_Prediction = (A >= 0.5) * 1.0\n",
    "    return Y_Prediction\n",
    "\n",
    "#checking accuracy\n",
    "trainPrediction = predict(params, XTrainFlatten, trainDatasetY)\n",
    "testPrediction = predict(params, XTestFlatten, testDatasetY)\n",
    "print(f\"train accuracy: {100-np.mean(np.abs(trainPrediction-trainDatasetY))*100}\")\n",
    "print(f\"test accuracy: {100-np.mean(np.abs(testPrediction-testDatasetY))*100}\")"
   ]
  }
 ],
 "metadata": {
  "kernelspec": {
   "display_name": "Python 3",
   "language": "python",
   "name": "python3"
  },
  "language_info": {
   "codemirror_mode": {
    "name": "ipython",
    "version": 3
   },
   "file_extension": ".py",
   "mimetype": "text/x-python",
   "name": "python",
   "nbconvert_exporter": "python",
   "pygments_lexer": "ipython3",
   "version": "3.12.1"
  }
 },
 "nbformat": 4,
 "nbformat_minor": 2
}
