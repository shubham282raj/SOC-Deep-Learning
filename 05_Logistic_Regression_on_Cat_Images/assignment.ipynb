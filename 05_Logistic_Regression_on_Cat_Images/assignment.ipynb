{
 "cells": [
  {
   "cell_type": "markdown",
   "metadata": {},
   "source": [
    "# Introduction to Deep Learning"
   ]
  },
  {
   "cell_type": "code",
   "execution_count": 252,
   "metadata": {},
   "outputs": [],
   "source": [
    "import numpy as np\n",
    "import matplotlib.pyplot as plt\n",
    "import h5py"
   ]
  },
  {
   "cell_type": "markdown",
   "metadata": {},
   "source": [
    "You are given a dataset containing:\n",
    "- a training set of m_train images labeled as cat (y=1) or non-cat (y=0)\n",
    "- a test set of m_test images labeled as cat or non-cat\n",
    "- each image is of shape `(num_px, num_px, 3)` where 3 is for the 3 channels (RGB). Thus, each image is square (height = num_px) and (width = num_px).\n",
    "\n",
    "You will build a simple image-recognition algorithm that can correctly classify pictures as cat or non-cat.\n",
    "\n",
    "Let's get more familiar with the dataset. Load the data by running the following code."
   ]
  },
  {
   "cell_type": "code",
   "execution_count": 253,
   "metadata": {},
   "outputs": [
    {
     "name": "stdout",
     "output_type": "stream",
     "text": [
      "(209, 64, 64, 3) (1, 209)\n",
      "(50, 64, 64, 3) (1, 50)\n"
     ]
    }
   ],
   "source": [
    "def loadDataset():\n",
    "    trainDataset = h5py.File(\"datasets/train_catvnoncat.h5\", \"r\")\n",
    "    trainDatasetX = np.array(trainDataset[\"train_set_x\"][:])\n",
    "    trainDatasetY = np.array(trainDataset[\"train_set_y\"][:])\n",
    "    \n",
    "    testDataset = h5py.File(\"datasets/test_catvnoncat.h5\")\n",
    "    testDatasetX = np.array(testDataset[\"test_set_x\"][:])\n",
    "    testDatasetY = np.array(testDataset[\"test_set_y\"][:])\n",
    "\n",
    "    classes = np.array(trainDataset[\"list_classes\"][:])\n",
    "\n",
    "    trainDatasetY = trainDatasetY.reshape((1, trainDatasetY.shape[0]))\n",
    "    testDatasetY = testDatasetY.reshape((1, testDatasetY.shape[0]))\n",
    "    return trainDatasetX, trainDatasetY, testDatasetX, testDatasetY, classes\n",
    "\n",
    "trainDatasetX, trainDatasetY, testDatasetX, testDatasetY, classes = loadDataset()\n",
    "print(trainDatasetX.shape, trainDatasetY.shape)\n",
    "print(testDatasetX.shape, testDatasetY.shape)"
   ]
  },
  {
   "cell_type": "markdown",
   "metadata": {},
   "source": [
    "Each line of your train_set_x_orig and test_set_x_orig is an array representing an image. You can visualize an example by running the following code. Feel free also to change the `index` value and re-run to see other images. "
   ]
  },
  {
   "cell_type": "code",
   "execution_count": 254,
   "metadata": {},
   "outputs": [
    {
     "data": {
      "image/png": "[encoded data removed]",
      "text/plain": [
       "<Figure size 640x480 with 1 Axes>"
      ]
     },
     "metadata": {},
     "output_type": "display_data"
    },
    {
     "name": "stdout",
     "output_type": "stream",
     "text": [
      "y = 1, it's a 'cat' picture.\n"
     ]
    }
   ],
   "source": [
    "index = 134\n",
    "plt.imshow(trainDatasetX[index])\n",
    "plt.show()\n",
    "print (\"y = \" + str(trainDatasetY[0, index]) + \", it's a '\" + classes[np.squeeze(trainDatasetY[:, index])].decode(\"utf-8\") +  \"' picture.\")"
   ]
  },
  {
   "cell_type": "markdown",
   "metadata": {},
   "source": [
    "Find the values for:\n",
    "- m_train (number of training examples)\n",
    "- m_test (number of test examples)\n",
    "- num_px (= height = width of a training image)  \n",
    "Remember that `train_set_x_orig` is a numpy-array of shape (m_train, num_px, num_px, 3). For instance, you can access `m_train` by writing `train_set_x_orig.shape[0]`."
   ]
  },
  {
   "cell_type": "code",
   "execution_count": 255,
   "metadata": {},
   "outputs": [
    {
     "name": "stdout",
     "output_type": "stream",
     "text": [
      "Number of training examples:  209\n",
      "Number of testing examples:  50\n",
      "Height of image:  64 px\n",
      "Shape of image:  (64, 64, 3)\n",
      "Shape of training dataset X:  (209, 64, 64, 3)\n",
      "Shape of training dataset Y:  (1, 209)\n"
     ]
    }
   ],
   "source": [
    "m_train = trainDatasetX.shape[0]\n",
    "m_test = testDatasetX.shape[0]\n",
    "num_px = trainDatasetX.shape[1]\n",
    "\n",
    "# let's print some usefull imformation\n",
    "print(\"Number of training examples: \", m_train)\n",
    "print(\"Number of testing examples: \", m_test)\n",
    "print(\"Height of image: \", num_px, \"px\")\n",
    "print(\"Shape of image: \", trainDatasetX[0].shape)\n",
    "print(\"Shape of training dataset X: \", trainDatasetX.shape)\n",
    "print(\"Shape of training dataset Y: \", trainDatasetY.shape)"
   ]
  },
  {
   "cell_type": "markdown",
   "metadata": {},
   "source": [
    "For convenience, you should now reshape images of shape (num_px, num_px, 3) in a numpy-array of shape (num_px $*$ num_px $*$ 3, 1). After this, our training (and test) dataset is a numpy-array where each column represents a flattened image. There should be m_train (respectively m_test) columns.\n",
    "\n",
    "A trick when you want to flatten a matrix X of shape (a,b,c,d) to a matrix X_flatten of shape (b * c * d, a) is to use: \n",
    "```\n",
    "X_flatten = X.reshape(X.shape[0], -1).T\n",
    "```"
   ]
  },
  {
   "cell_type": "code",
   "execution_count": 256,
   "metadata": {},
   "outputs": [
    {
     "name": "stdout",
     "output_type": "stream",
     "text": [
      "Shape of XTrainFlatten:  (12288, 209)\n",
      "Shape of XTestFlatten:  (12288, 50)\n"
     ]
    }
   ],
   "source": [
    "XTrainFlatten = trainDatasetX.reshape(trainDatasetX.shape[0],-1).T\n",
    "XTestFlatten = testDatasetX.reshape(testDatasetX.shape[0],-1).T\n",
    "print(\"Shape of XTrainFlatten: \", XTrainFlatten.shape)\n",
    "print(\"Shape of XTestFlatten: \", XTestFlatten.shape)"
   ]
  },
  {
   "cell_type": "markdown",
   "metadata": {},
   "source": [
    "To represent color images, the red, green and blue channels (RGB) must be specified for each pixel, and so the pixel value is actually a vector of three numbers ranging from 0 to 255.\n",
    "\n",
    "One common preprocessing step in machine learning is to center and standardize your dataset, meaning that you substract the mean of the whole numpy array from each example, and then divide each example by the standard deviation of the whole numpy array. But for picture datasets, it is simpler and more convenient and works almost as well to just divide every row of the dataset by 255 (the maximum value of a pixel channel)."
   ]
  },
  {
   "cell_type": "code",
   "execution_count": 257,
   "metadata": {},
   "outputs": [],
   "source": [
    "XTrainFlatten = XTrainFlatten / 255\n",
    "XTestFlatten = XTestFlatten / 255"
   ]
  },
  {
   "cell_type": "markdown",
   "metadata": {},
   "source": [
    "Sigmoid Function"
   ]
  },
  {
   "cell_type": "code",
   "execution_count": 258,
   "metadata": {},
   "outputs": [],
   "source": [
    "def sigmoid(z):\n",
    "    return 1/(1+np.exp(-z))"
   ]
  },
  {
   "cell_type": "markdown",
   "metadata": {},
   "source": [
    "Initialize Parameters"
   ]
  },
  {
   "cell_type": "code",
   "execution_count": 259,
   "metadata": {},
   "outputs": [],
   "source": [
    "def initializeParameters(dim):\n",
    "    w = np.zeros((dim, 1))\n",
    "    b = 0\n",
    "    return w, b"
   ]
  },
  {
   "cell_type": "markdown",
   "metadata": {},
   "source": [
    "## Logistic Regression \n",
    "#### Forward Propagation\n",
    "$$\n",
    "Z = W^T X + b  \\\\\n",
    "A = sigmoid(X) \\\\\n",
    "$$\n",
    "#### Calculate Cost\n",
    "$$\n",
    "J = -\\frac{1}{m}\\sum_{i=1}^{m}y^{(i)}\\log(a^{(i)})+(1-y^{(i)})\\log(1-a^{(i)})\n",
    "$$\n",
    "#### Backward Propagation\n",
    "$$ \\partial W = \\frac{\\partial J}{\\partial W} = \\frac{1}{m}X(A-Y)^T\\tag{7}$$\n",
    "$$ \\partial b = \\frac{\\partial J}{\\partial b} = \\frac{1}{m} \\sum_{i=1}^m (a^{(i)}-y^{(i)})\\tag{8}$$\n",
    "#### Parameter Updation\n",
    "$$ W = W - \\alpha \\text{ } \\partial W $$\n",
    "$$ b = b - \\alpha \\text{ } \\partial b $$"
   ]
  },
  {
   "cell_type": "markdown",
   "metadata": {},
   "source": [
    "Let's implements forward propagation, cost calculation and backward propagation in one function"
   ]
  },
  {
   "cell_type": "code",
   "execution_count": 260,
   "metadata": {},
   "outputs": [],
   "source": [
    "def propagate(w, b, X, Y):\n",
    "    m = X.shape[1]\n",
    "\n",
    "    #forward prop\n",
    "    Z = np.dot(w.T, X)+b\n",
    "    A = sigmoid(Z)\n",
    "\n",
    "    #cost calculation\n",
    "    cost = (-1/m)*(np.sum(Y*np.log(A)+(1-Y)*np.log(1-A)))\n",
    "    \n",
    "    #backward prop\n",
    "    db = (1/m)*np.sum(A-Y)\n",
    "    dw = (1/m)*np.dot(X, ((A-Y).T))\n",
    "    grad = {\"dw\": dw,\n",
    "            \"db\": db}\n",
    "    \n",
    "    return grad, cost"
   ]
  },
  {
   "cell_type": "markdown",
   "metadata": {},
   "source": [
    "Implement gradient decent for training our weights"
   ]
  },
  {
   "cell_type": "code",
   "execution_count": 261,
   "metadata": {},
   "outputs": [],
   "source": [
    "def train_model(X, Y, numIterations, learningRate, printCost = False):\n",
    "    nx = X.shape[0]\n",
    "    m = X.shape[1]\n",
    "    w, b = initializeParameters(nx)\n",
    "    costs = []\n",
    "\n",
    "    for i in range(numIterations):\n",
    "        #forward propagation, cost calculation and backward propagation\n",
    "        grad, cost = propagate(w, b, X, Y)\n",
    "        costs.append(cost)\n",
    "        #update weights\n",
    "        w -= learningRate*grad[\"dw\"]\n",
    "        b -= learningRate*grad[\"db\"]\n",
    "\n",
    "        if(printCost and i%100==0):\n",
    "            print(f\"Cost after {i} iterations: {cost}\")\n",
    "    \n",
    "    params = {\"w\": w,\n",
    "              \"b\": b}\n",
    "    \n",
    "    return params, costs"
   ]
  },
  {
   "cell_type": "code",
   "execution_count": 310,
   "metadata": {},
   "outputs": [
    {
     "name": "stdout",
     "output_type": "stream",
     "text": [
      "Cost after 0 iterations: 0.6931471805599453\n",
      "Cost after 100 iterations: 0.50402066728841\n",
      "Cost after 200 iterations: 0.6216749014636461\n",
      "Cost after 300 iterations: 0.5389833486161065\n",
      "Cost after 400 iterations: 0.4378837385019491\n",
      "Cost after 500 iterations: 0.3322113233683852\n",
      "Cost after 600 iterations: 0.2362005705752742\n",
      "Cost after 700 iterations: 0.1836529752248794\n",
      "Cost after 800 iterations: 0.16848465645427102\n",
      "Cost after 900 iterations: 0.1568516744134947\n",
      "Cost after 1000 iterations: 0.14680664440604782\n",
      "Cost after 1100 iterations: 0.13797061897414353\n",
      "Cost after 1200 iterations: 0.13011258680750432\n",
      "Cost after 1300 iterations: 0.12307038626759956\n",
      "Cost after 1400 iterations: 0.11672101852104064\n",
      "Cost after 1500 iterations: 0.11096706076152171\n",
      "Cost after 1600 iterations: 0.10572932370184207\n",
      "Cost after 1700 iterations: 0.1009423418072529\n",
      "Cost after 1800 iterations: 0.09655133800379546\n",
      "Cost after 1900 iterations: 0.09251004952961168\n",
      "Cost after 2000 iterations: 0.08877910431297134\n",
      "Cost after 2100 iterations: 0.08532477363320716\n",
      "Cost after 2200 iterations: 0.08211799451972512\n",
      "Cost after 2300 iterations: 0.07913359213444325\n",
      "Cost after 2400 iterations: 0.076349654050435\n",
      "Cost after 2500 iterations: 0.0737470219896944\n",
      "Cost after 2600 iterations: 0.07130887565590902\n",
      "Cost after 2700 iterations: 0.06902038958292459\n",
      "Cost after 2800 iterations: 0.06686844841187263\n",
      "Cost after 2900 iterations: 0.0648414092989361\n",
      "Cost after 3000 iterations: 0.06292890260909724\n",
      "Cost after 3100 iterations: 0.06112166390868383\n",
      "Cost after 3200 iterations: 0.05941139169308197\n",
      "Cost after 3300 iterations: 0.05779062638823097\n",
      "Cost after 3400 iterations: 0.05625264702557023\n",
      "Cost after 3500 iterations: 0.05479138266800318\n",
      "Cost after 3600 iterations: 0.053401336201884156\n",
      "Cost after 3700 iterations: 0.052077518538832614\n",
      "Cost after 3800 iterations: 0.050815391615300215\n",
      "Cost after 3900 iterations: 0.049610818855477246\n",
      "Cost after 4000 iterations: 0.04846002198829912\n",
      "Cost after 4100 iterations: 0.04735954329278797\n",
      "Cost after 4200 iterations: 0.04630621249613876\n",
      "Cost after 4300 iterations: 0.04529711767239353\n",
      "Cost after 4400 iterations: 0.044329579591421336\n",
      "Cost after 4500 iterations: 0.04340112905231956\n",
      "Cost after 4600 iterations: 0.04250948680553523\n",
      "Cost after 4700 iterations: 0.04165254572657029\n",
      "Cost after 4800 iterations: 0.0408283549531739\n",
      "Cost after 4900 iterations: 0.04003510573911998\n",
      "Cost after 5000 iterations: 0.03927111881238347\n",
      "Cost after 5100 iterations: 0.03853483305487227\n",
      "Cost after 5200 iterations: 0.03782479534574701\n",
      "Cost after 5300 iterations: 0.03713965143150773\n",
      "Cost after 5400 iterations: 0.03647813770405448\n",
      "Cost after 5500 iterations: 0.03583907378333588\n",
      "Cost after 5600 iterations: 0.03522135581440416\n",
      "Cost after 5700 iterations: 0.03462395040003661\n",
      "Cost after 5800 iterations: 0.03404588909985103\n",
      "Cost after 5900 iterations: 0.03348626343527381\n",
      "Cost after 6000 iterations: 0.03294422034701078\n",
      "Cost after 6100 iterations: 0.03241895805799659\n",
      "Cost after 6200 iterations: 0.031909722300291474\n",
      "Cost after 6300 iterations: 0.03141580286917834\n",
      "Cost after 6400 iterations: 0.03093653047188792\n",
      "Cost after 6500 iterations: 0.030471273842028187\n",
      "Cost after 6600 iterations: 0.030019437093990114\n",
      "Cost after 6700 iterations: 0.029580457294407628\n",
      "Cost after 6800 iterations: 0.02915380223021442\n",
      "Cost after 6900 iterations: 0.028738968355012797\n",
      "Cost after 7000 iterations: 0.028335478897385583\n",
      "Cost after 7100 iterations: 0.027942882116474898\n",
      "Cost after 7200 iterations: 0.027560749691651537\n",
      "Cost after 7300 iterations: 0.027188675234426724\n",
      "Cost after 7400 iterations: 0.02682627291193894\n",
      "Cost after 7500 iterations: 0.02647317617239771\n",
      "Cost after 7600 iterations: 0.026129036563801458\n",
      "Cost after 7700 iterations: 0.02579352263808024\n",
      "Cost after 7800 iterations: 0.02546631893355986\n",
      "Cost after 7900 iterations: 0.02514712502930922\n",
      "Cost after 8000 iterations: 0.024835654665530723\n",
      "Cost after 8100 iterations: 0.024531634924688486\n",
      "Cost after 8200 iterations: 0.024234805468549888\n",
      "Cost after 8300 iterations: 0.02394491782674893\n",
      "Cost after 8400 iterations: 0.023661734732868336\n",
      "Cost after 8500 iterations: 0.023385029504389195\n",
      "Cost after 8600 iterations: 0.023114585463173177\n",
      "Cost after 8700 iterations: 0.022850195393428273\n",
      "Cost after 8800 iterations: 0.02259166103436869\n",
      "Cost after 8900 iterations: 0.022338792605012966\n",
      "Cost after 9000 iterations: 0.022091408358777678\n",
      "Cost after 9100 iterations: 0.021849334165716487\n",
      "Cost after 9200 iterations: 0.021612403120429582\n",
      "Cost after 9300 iterations: 0.021380455173828024\n",
      "Cost after 9400 iterations: 0.021153336787082026\n",
      "Cost after 9500 iterations: 0.020930900606215292\n",
      "Cost after 9600 iterations: 0.02071300515592664\n",
      "Cost after 9700 iterations: 0.020499514551331484\n",
      "Cost after 9800 iterations: 0.020290298226415353\n",
      "Cost after 9900 iterations: 0.020085230678083887\n"
     ]
    }
   ],
   "source": [
    "params, costs = train_model(XTrainFlatten, trainDatasetY, numIterations = 10000, learningRate = 0.008, printCost = True)"
   ]
  },
  {
   "cell_type": "markdown",
   "metadata": {},
   "source": [
    "Let's see how cost decrease with iterations"
   ]
  },
  {
   "cell_type": "code",
   "execution_count": 311,
   "metadata": {},
   "outputs": [
    {
     "data": {
      "image/png": "[encoded data removed]",
      "text/plain": [
       "<Figure size 640x480 with 1 Axes>"
      ]
     },
     "metadata": {},
     "output_type": "display_data"
    }
   ],
   "source": [
    "plt.plot(costs)\n",
    "plt.show()"
   ]
  },
  {
   "cell_type": "markdown",
   "metadata": {},
   "source": [
    "Let's Predict out model's output on train and test images and and see how our model performed"
   ]
  },
  {
   "cell_type": "code",
   "execution_count": 312,
   "metadata": {},
   "outputs": [
    {
     "name": "stdout",
     "output_type": "stream",
     "text": [
      "train accuracy: 100.0\n",
      "test accuracy: 72.0\n"
     ]
    }
   ],
   "source": [
    "def predict(params, X, Y):\n",
    "    w = params[\"w\"]\n",
    "    b = params[\"b\"]\n",
    "    Z = w.T.dot(X) + b\n",
    "    A = sigmoid(Z)\n",
    "    Y_Prediction = (A > 0.5) * 1.0\n",
    "    return Y_Prediction\n",
    "\n",
    "#checking accuracy\n",
    "trainPrediction = predict(params, XTrainFlatten, trainDatasetY)\n",
    "testPrediction = predict(params, XTestFlatten, testDatasetY)\n",
    "print(f\"train accuracy: {100-np.mean(np.abs(trainPrediction-trainDatasetY))*100}\")\n",
    "print(f\"test accuracy: {100-np.mean(np.abs(testPrediction-testDatasetY))*100}\")"
   ]
  }
 ],
 "metadata": {
  "kernelspec": {
   "display_name": "Python 3",
   "language": "python",
   "name": "python3"
  },
  "language_info": {
   "codemirror_mode": {
    "name": "ipython",
    "version": 3
   },
   "file_extension": ".py",
   "mimetype": "text/x-python",
   "name": "python",
   "nbconvert_exporter": "python",
   "pygments_lexer": "ipython3",
   "version": "3.10.4"
  }
 },
 "nbformat": 4,
 "nbformat_minor": 2
}
