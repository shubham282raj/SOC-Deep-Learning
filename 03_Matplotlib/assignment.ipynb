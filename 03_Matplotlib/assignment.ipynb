{
 "cells": [
  {
   "cell_type": "markdown",
   "metadata": {},
   "source": [
    "# Introduction to Deep Learning\n",
    "This assignment will give you a brief introduction to Matplotlib. Matplotlib is a powerful and versatile plotting library for Python, widely used for creating static, interactive, and animated visualizations. It is essential for various fields including data science, machine learning, and engineering, as it provides a wide range of tools to produce publication-quality figures in a variety of formats and interactive environments across platforms.\n"
   ]
  },
  {
   "cell_type": "markdown",
   "metadata": {},
   "source": [
    "Let's import numpy and matplotlib"
   ]
  },
  {
   "cell_type": "code",
   "execution_count": 4,
   "metadata": {},
   "outputs": [],
   "source": [
    "import numpy as np\n",
    "import matplotlib.pyplot as plt"
   ]
  },
  {
   "cell_type": "markdown",
   "metadata": {},
   "source": [
    "### Basic Line Plot\n",
    "let's plot some basic curve\n",
    "$$\n",
    "y = sin(x)\n",
    "$$\n",
    "For this we can follow these steps\n",
    "1. Generate a list of x values from 0 to 10 (inclusive) with 100 points in between.\n",
    "2. Create y values as the sine of x values.\n",
    "3. Plot x vs y with labels for the axes and a title."
   ]
  },
  {
   "cell_type": "code",
   "execution_count": null,
   "metadata": {},
   "outputs": [],
   "source": [
    "# generate points on x axis\n",
    "# this will create 100 points between 0 and 10\n",
    "x = np.linspace(0, 10, 100)\n",
    "\n",
    "# lets use numpy and get sin for each value of x \n",
    "# without writing any loop explicitly\n",
    "y = np.sin(x)\n",
    "\n",
    "# create the plot\n",
    "plt.plot(x, y)\n",
    "\n",
    "# optional but a good practice\n",
    "# let's give x and y axis names\n",
    "plt.xlabel(\"x\")\n",
    "plt.ylabel(\"sin(x)\")\n",
    "\n",
    "# let's also give the plot a title\n",
    "plt.title(\"Sin Wave\")\n",
    "\n",
    "# finally show our plot\n",
    "plt.show()"
   ]
  },
  {
   "cell_type": "markdown",
   "metadata": {},
   "source": [
    "You can also change the code and try for different range of values and try out different functions and see the results\n",
    "\n",
    "### Scatter Plots\n",
    "In our journey ahead, scatter plots will be really helpful and we'll often plot them to see how good our neural network model is predicting  \n",
    "For now just run these few blocks below and think of what functions on 2D plane can seperate the points plotted  \n",
    "You need not focus on how the code is working, just take a glimpse of what you can expect deep learning models to do on a 2D plane  \n",
    "You'll see in Week 2 coding assignment, how your own coded deep learning model will be able to distinguish these colors and further how the logic can be extended to diffrentiate two pictures, one with a cat in it and other without one"
   ]
  },
  {
   "cell_type": "code",
   "execution_count": null,
   "metadata": {},
   "outputs": [],
   "source": [
    "# Set random seed for reproducibility\n",
    "np.random.seed(42)\n",
    "\n",
    "# Generate data for two classes\n",
    "class1_x = np.random.normal(2, 0.5, 50)\n",
    "class1_y = np.random.normal(2, 0.5, 50)\n",
    "class2_x = np.random.normal(4, 0.5, 50)\n",
    "class2_y = np.random.normal(4, 0.5, 50)\n",
    "\n",
    "# Create the scatter plot\n",
    "plt.scatter(class1_x, class1_y, color='blue', label='Class 1')\n",
    "plt.scatter(class2_x, class2_y, color='red', label='Class 2')\n",
    "plt.xlabel('Feature 1')\n",
    "plt.ylabel('Feature 2')\n",
    "plt.title('Scatter Plot for Classification')\n",
    "plt.legend()\n",
    "plt.grid(True)\n",
    "plt.show()\n"
   ]
  },
  {
   "cell_type": "markdown",
   "metadata": {},
   "source": [
    "You see, a linear line can easily seperate the two colors here"
   ]
  },
  {
   "cell_type": "code",
   "execution_count": null,
   "metadata": {},
   "outputs": [],
   "source": [
    "# Set random seed for reproducibility\n",
    "np.random.seed(42)\n",
    "\n",
    "# Generate data for class 1 (below the curve y = x^2)\n",
    "class1_x = np.random.uniform(-2, 2, 100)\n",
    "class1_y = class1_x**2 - np.random.uniform(0.5, 3, 100)\n",
    "\n",
    "# Generate data for class 2 (above the curve y = x^2)\n",
    "class2_x = np.random.uniform(-2, 2, 100)\n",
    "class2_y = class2_x**2 + np.random.uniform(0.5, 3, 100)\n",
    "\n",
    "# Create the scatter plot\n",
    "plt.scatter(class1_x, class1_y, color='blue', label='Class 1')\n",
    "plt.scatter(class2_x, class2_y, color='red', label='Class 2')\n",
    "plt.xlabel('Feature 1')\n",
    "plt.ylabel('Feature 2')\n",
    "plt.title('Scatter Plot for Classification with Quadratic Boundary')\n",
    "plt.legend()\n",
    "plt.grid(True)\n",
    "\n",
    "plt.show()\n"
   ]
  },
  {
   "cell_type": "markdown",
   "metadata": {},
   "source": [
    "Here out deep learning model would need to predict this function to diffrentiate the two set of points\n",
    "$$\n",
    "y = x^2\n",
    "$$"
   ]
  },
  {
   "cell_type": "code",
   "execution_count": null,
   "metadata": {},
   "outputs": [],
   "source": [
    "import numpy as np\n",
    "import matplotlib.pyplot as plt\n",
    "\n",
    "# Set random seed for reproducibility\n",
    "np.random.seed(42)\n",
    "\n",
    "# Define the cubic function\n",
    "def cubic_function(x):\n",
    "    return x**3 - 2*x + 5\n",
    "\n",
    "# Generate data for class 1 (below the curve y = x^3 - 2x + 5)\n",
    "class1_x = np.random.uniform(-3, 3, 150)\n",
    "class1_y = cubic_function(class1_x) - np.random.uniform(1, 10, 150)\n",
    "\n",
    "# Generate data for class 2 (above the curve y = x^3 - 2x + 5)\n",
    "class2_x = np.random.uniform(-3, 3, 150)\n",
    "class2_y = cubic_function(class2_x) + np.random.uniform(1, 10, 150)\n",
    "\n",
    "# Create the scatter plot\n",
    "plt.scatter(class1_x, class1_y, color='blue', label='Class 1')\n",
    "plt.scatter(class2_x, class2_y, color='red', label='Class 2')\n",
    "plt.xlabel('Feature 1')\n",
    "plt.ylabel('Feature 2')\n",
    "plt.title('Scatter Plot for Classification with Cubic Boundary')\n",
    "plt.legend()\n",
    "plt.grid(True)\n",
    "\n",
    "plt.show()\n"
   ]
  },
  {
   "cell_type": "markdown",
   "metadata": {},
   "source": [
    "Here we feel the need for a cubic function, more specifically this one\n",
    "$$\n",
    "y = x^3 - 2x + 5\n",
    "$$"
   ]
  },
  {
   "cell_type": "code",
   "execution_count": null,
   "metadata": {},
   "outputs": [],
   "source": [
    "import numpy as np\n",
    "import matplotlib.pyplot as plt\n",
    "\n",
    "# Set random seed for reproducibility\n",
    "np.random.seed(42)\n",
    "\n",
    "# Define the quadratic functions\n",
    "def quadratic_function_1(x):\n",
    "    return x**2 - 2\n",
    "\n",
    "def quadratic_function_2(x):\n",
    "    return -x**2 + 2\n",
    "\n",
    "def quadratic_function_3(x):\n",
    "    return x**2 + 2\n",
    "\n",
    "# Generate data for class 1 (below the curve y = x^2 - 2)\n",
    "class1_x = np.random.uniform(-2, 2, 100)\n",
    "class1_y = quadratic_function_1(class1_x) - np.random.uniform(1, 3, 100)\n",
    "\n",
    "# Generate data for class 2 (between the curves y = x^2 - 2 and y = -x^2 + 2)\n",
    "class2_x = np.random.uniform(-2, 2, 100)\n",
    "class2_y = np.random.uniform(quadratic_function_1(class2_x) + 0.5, quadratic_function_2(class2_x) - 0.5, 100)\n",
    "\n",
    "# Generate data for class 3 (above the curve y = -x^2 + 2)\n",
    "class3_x = np.random.uniform(-2, 2, 100)\n",
    "class3_y = quadratic_function_2(class3_x) + np.random.uniform(1, 3, 100)\n",
    "\n",
    "# Create the scatter plot\n",
    "plt.scatter(class1_x, class1_y, color='blue', label='Class 1')\n",
    "plt.scatter(class2_x, class2_y, color='green', label='Class 2')\n",
    "plt.scatter(class3_x, class3_y, color='red', label='Class 3')\n",
    "plt.xlabel('Feature 1')\n",
    "plt.ylabel('Feature 2')\n",
    "plt.title('Scatter Plot for Multi-Class Classification with Quadratic Boundaries')\n",
    "plt.legend()\n",
    "plt.grid(True)\n",
    "\n",
    "# Plot the quadratic boundaries\n",
    "x_curve = np.linspace(-2, 2, 400)\n",
    "y_curve_1 = quadratic_function_1(x_curve)\n",
    "y_curve_2 = quadratic_function_2(x_curve)\n",
    "y_curve_3 = quadratic_function_3(x_curve)\n",
    "\n",
    "plt.show()\n"
   ]
  },
  {
   "cell_type": "markdown",
   "metadata": {},
   "source": [
    "For this one, we'll need 2 set of curves to draw boundaries"
   ]
  },
  {
   "cell_type": "markdown",
   "metadata": {},
   "source": [
    "### Loading and Displaying Images\n",
    "You can load/read images using `imread()` function and display it using `imshow()`  \n",
    "Run the code below"
   ]
  },
  {
   "cell_type": "code",
   "execution_count": null,
   "metadata": {},
   "outputs": [],
   "source": [
    "# reading image\n",
    "image_path = \"./images/cat.jpeg\"\n",
    "image = plt.imread(image_path)\n",
    "\n",
    "# displaying image\n",
    "plt.imshow(image)\n",
    "plt.show()"
   ]
  },
  {
   "cell_type": "markdown",
   "metadata": {},
   "source": [
    "### Pillow Library\n",
    "Pillow is a popular Python Imaging Library (PIL) fork that makes working with images in Python easier. It provides extensive file format support, an efficient internal representation, and powerful image processing capabilities.  \n",
    "We often this library for loading images"
   ]
  },
  {
   "cell_type": "code",
   "execution_count": 13,
   "metadata": {},
   "outputs": [],
   "source": [
    "from PIL import Image\n",
    "\n",
    "image_url = \"./images/cat.jpeg\"\n",
    "image = Image.open(image_url)\n",
    "\n",
    "# uncomment this to show the iamge using Pillow library\n",
    "image.show()"
   ]
  },
  {
   "cell_type": "markdown",
   "metadata": {},
   "source": [
    "We'll be using numpy to write our own neural network models  \n",
    "Let's get this image as a 3D numpy array"
   ]
  },
  {
   "cell_type": "code",
   "execution_count": 14,
   "metadata": {},
   "outputs": [],
   "source": [
    "image_numpy = np.array(image)"
   ]
  },
  {
   "cell_type": "markdown",
   "metadata": {},
   "source": [
    "You might wanna try printing this 3D array but it might not make much sense, let's print its shape"
   ]
  },
  {
   "cell_type": "code",
   "execution_count": null,
   "metadata": {},
   "outputs": [],
   "source": [
    "print(image_numpy.shape)"
   ]
  },
  {
   "cell_type": "markdown",
   "metadata": {},
   "source": [
    "Well, we observe it has 3 color channels and it is 2500 x 2392 pixels in each channel  \n",
    "You can also use `image.size` to get shape, but it won't have number of channels"
   ]
  },
  {
   "cell_type": "code",
   "execution_count": null,
   "metadata": {},
   "outputs": [],
   "source": [
    "print(image.size)"
   ]
  },
  {
   "cell_type": "markdown",
   "metadata": {},
   "source": [
    "Now you might think why do we use Pillow library when matplotlib can load images for us. The answer is it's predefined function that are very helpful in image processing or image pre-processing for us when we deal with deep learning models."
   ]
  },
  {
   "cell_type": "markdown",
   "metadata": {},
   "source": [
    "#### Resizing an Image"
   ]
  },
  {
   "cell_type": "code",
   "execution_count": null,
   "metadata": {},
   "outputs": [],
   "source": [
    "resized_image = image.resize((image.width // 2, image.height // 2))\n",
    "print(np.array(resized_image).shape)\n",
    "# uncomment the line below to view the cropped image\n",
    "resized_image.show()"
   ]
  },
  {
   "cell_type": "markdown",
   "metadata": {},
   "source": [
    "#### Cropping an Image"
   ]
  },
  {
   "cell_type": "code",
   "execution_count": null,
   "metadata": {},
   "outputs": [],
   "source": [
    "cropped_image = image.crop((0, 0, 1200, 1200))\n",
    "print(np.array(resized_image).shape)\n",
    "# uncomment the line below to view the cropped image\n",
    "cropped_image.show()"
   ]
  },
  {
   "cell_type": "markdown",
   "metadata": {},
   "source": [
    "#### Convert image to grayscale"
   ]
  },
  {
   "cell_type": "code",
   "execution_count": null,
   "metadata": {},
   "outputs": [],
   "source": [
    "grayscale_image = image.convert('L')\n",
    "print(np.array(grayscale_image).shape)\n",
    "# uncomment the line below to view the cropped image\n",
    "grayscale_image.show()"
   ]
  },
  {
   "cell_type": "markdown",
   "metadata": {},
   "source": [
    "#### Rotate an Image"
   ]
  },
  {
   "cell_type": "code",
   "execution_count": null,
   "metadata": {},
   "outputs": [],
   "source": [
    "rotated_image = image.rotate(-90)\n",
    "print(np.array(rotated_image).shape)\n",
    "# uncomment the line below to view the cropped image\n",
    "rotated_image.show()"
   ]
  },
  {
   "cell_type": "markdown",
   "metadata": {},
   "source": [
    "Let's see what 3 RGB channels individually look like"
   ]
  },
  {
   "cell_type": "code",
   "execution_count": null,
   "metadata": {},
   "outputs": [],
   "source": [
    "image = Image.open(image_url)\n",
    "# loading image in numpy array\n",
    "image_numpy = np.array(image)\n",
    "# getting each color channel by making a zero array and setting each channel\n",
    "image_numpy_channel_1 = np.zeros(image_numpy.shape, dtype=int)\n",
    "image_numpy_channel_1[:,:,0] = image_numpy[:,:,0]\n",
    "\n",
    "image_numpy_channel_2 = np.zeros(image_numpy.shape, dtype=int)\n",
    "image_numpy_channel_2[:,:,1] = image_numpy[:,:,1]\n",
    "\n",
    "image_numpy_channel_3 = np.zeros(image_numpy.shape, dtype=int)\n",
    "image_numpy_channel_3[:,:,2] = image_numpy[:,:,2]\n",
    "\n",
    "# creating a subplot\n",
    "fig, axs = plt.subplots(1, 4, figsize=(12, 3))\n",
    "\n",
    "# showing image on each subplot\n",
    "axs[0].imshow(image_numpy)\n",
    "axs[0].axis('off')\n",
    "\n",
    "axs[1].imshow(image_numpy_channel_1)\n",
    "axs[1].axis('off')\n",
    "\n",
    "axs[2].imshow(image_numpy_channel_2)\n",
    "axs[2].axis('off')\n",
    "\n",
    "axs[3].imshow(image_numpy_channel_3)\n",
    "axs[3].axis('off')\n",
    "\n",
    "plt.show()"
   ]
  },
  {
   "cell_type": "markdown",
   "metadata": {},
   "source": [
    "By combining all three channels, we get our image"
   ]
  },
  {
   "cell_type": "markdown",
   "metadata": {},
   "source": [
    "As you guys will complete Week 2 lectures, you guys will be able to code deep learning model yourselves in basic numpy and see how you can plot decision boundaries and stuff. "
   ]
  }
 ],
 "metadata": {
  "kernelspec": {
   "display_name": "Python 3",
   "language": "python",
   "name": "python3"
  },
  "language_info": {
   "codemirror_mode": {
    "name": "ipython",
    "version": 3
   },
   "file_extension": ".py",
   "mimetype": "text/x-python",
   "name": "python",
   "nbconvert_exporter": "python",
   "pygments_lexer": "ipython3",
   "version": "3.10.4"
  }
 },
 "nbformat": 4,
 "nbformat_minor": 2
}
