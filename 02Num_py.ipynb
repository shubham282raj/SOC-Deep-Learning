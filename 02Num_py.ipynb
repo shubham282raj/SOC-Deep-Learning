{
 "cells": [
  {
   "cell_type": "code",
   "execution_count": 7,
   "metadata": {},
   "outputs": [
    {
     "name": "stdout",
     "output_type": "stream",
     "text": [
      "0.8807970779778823\n"
     ]
    }
   ],
   "source": [
    "import math\n",
    "\n",
    "def basic_sigmoid(x):\n",
    "    s= 1/(1+((math.e)**(-x)))\n",
    "    return s\n",
    "print(basic_sigmoid(2))\n",
    "\n"
   ]
  },
  {
   "cell_type": "code",
   "execution_count": 13,
   "metadata": {},
   "outputs": [],
   "source": [
    "import numpy as np"
   ]
  },
  {
   "cell_type": "code",
   "execution_count": 16,
   "metadata": {},
   "outputs": [
    {
     "name": "stdout",
     "output_type": "stream",
     "text": [
      "[1, 4, 9, 16, 25, 36]\n"
     ]
    }
   ],
   "source": [
    "import numpy as np\n",
    "\n",
    "python_list = [1, 2, 3, 4, 5, 6]\n",
    "numpy_array = np.array([1, 2, 3, 4, 5, 6])\n",
    "\n",
    "squared_list=[]\n",
    "\n",
    "for number in python_list:\n",
    "    squared_list.append(number**2)\n",
    "print(squared_list)\n"
   ]
  },
  {
   "cell_type": "code",
   "execution_count": 17,
   "metadata": {},
   "outputs": [
    {
     "name": "stdout",
     "output_type": "stream",
     "text": [
      "0.8807970779778823\n"
     ]
    }
   ],
   "source": [
    "def numpy_sigmoid(x):\n",
    "  s = 1/(1+(np.exp(-x)))\n",
    "  return s\n",
    "print(numpy_sigmoid(2))\n"
   ]
  },
  {
   "cell_type": "code",
   "execution_count": 29,
   "metadata": {},
   "outputs": [
    {
     "name": "stdout",
     "output_type": "stream",
     "text": [
      "Original Array:\n",
      "[[1 2 3]\n",
      " [4 5 6]\n",
      " [7 8 9]]\n",
      "\n",
      "Normalized Array:\n",
      "[[0.  0.  0. ]\n",
      " [0.5 0.5 0.5]\n",
      " [1.  1.  1. ]]\n"
     ]
    }
   ],
   "source": [
    "arr = np.array([[1, 2, 3],[4, 5, 6],[7, 8, 9]])\n",
    "\n",
    "def normalize_array(arr):\n",
    "  min_val = arr.min(axis=0)\n",
    "  max_val = arr.max(axis=0)\n",
    " \n",
    "  numerator = arr - min_val\n",
    "  denominator = max_val -min_val\n",
    "  normalized_array = numerator/denominator\n",
    "  return normalized_array\n",
    "\n",
    "normalized_array = normalize_array(arr)\n",
    "print(\"Original Array:\")\n",
    "print(arr)\n",
    "print(\"\\nNormalized Array:\")\n",
    "print(normalized_array)"
   ]
  }
 ],
 "metadata": {
  "kernelspec": {
   "display_name": "Python 3",
   "language": "python",
   "name": "python3"
  },
  "language_info": {
   "codemirror_mode": {
    "name": "ipython",
    "version": 3
   },
   "file_extension": ".py",
   "mimetype": "text/x-python",
   "name": "python",
   "nbconvert_exporter": "python",
   "pygments_lexer": "ipython3",
   "version": "3.12.1"
  }
 },
 "nbformat": 4,
 "nbformat_minor": 2
}
