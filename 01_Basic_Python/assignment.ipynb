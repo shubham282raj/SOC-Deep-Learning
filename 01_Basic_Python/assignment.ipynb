{
 "cells": [
  {
   "cell_type": "markdown",
   "metadata": {},
   "source": [
    "# Introduction to Deep Learning\n",
    "This assignment will help you assess your basic python knowledge you need to get started."
   ]
  },
  {
   "cell_type": "markdown",
   "metadata": {},
   "source": [
    "## Python Basics"
   ]
  },
  {
   "cell_type": "markdown",
   "metadata": {},
   "source": [
    "### Variables\n",
    "A variable is created the moment you first assign a value to it  \n",
    "For example,  \n",
    "```python\n",
    "x = 5\n",
    "name = \"John\"\n",
    "```"
   ]
  },
  {
   "cell_type": "markdown",
   "metadata": {},
   "source": [
    "### Printing Statements\n",
    "The `print()` function prints message on the terminal or standard output devices.  \n",
    "For example  \n",
    "```python\n",
    "# Printing string\n",
    "print(\"Hello World\")\n",
    "# Printing a variable name\n",
    "name = \"John\"\n",
    "print(name)\n",
    "```"
   ]
  },
  {
   "cell_type": "markdown",
   "metadata": {},
   "source": [
    "#### Exercise\n",
    "Assign your name to name variable and print it  "
   ]
  },
  {
   "cell_type": "code",
   "execution_count": 1,
   "metadata": {},
   "outputs": [
    {
     "name": "stdout",
     "output_type": "stream",
     "text": [
      "Aryan Mahajan\n"
     ]
    }
   ],
   "source": [
    "name = \"Aryan Mahajan\"\n",
    "print(name)"
   ]
  },
  {
   "cell_type": "markdown",
   "metadata": {},
   "source": [
    "### Conditional Statements\n",
    "Conditional statements are used to execute different actions based on different conditions. They allow your programs to make decisions and choose different paths of execution.  \n",
    "\n",
    "```python\n",
    "if condition1:\n",
    "    # Code block to be executed if condition1 is true\n",
    "elif conditio2:\n",
    "    # Code block to be if condition2 is true\n",
    "else:\n",
    "    # Code block to be executed if none of the conditions are true is false\n",
    "```"
   ]
  },
  {
   "cell_type": "markdown",
   "metadata": {},
   "source": [
    "#### Exercise\n",
    "Print if the the integer stored in varible `number` is even or odd.  \n",
    "Hint: Use modulus operator"
   ]
  },
  {
   "cell_type": "code",
   "execution_count": 2,
   "metadata": {},
   "outputs": [
    {
     "name": "stdout",
     "output_type": "stream",
     "text": [
      "odd\n"
     ]
    }
   ],
   "source": [
    "number = 5\n",
    "if number%2==0:\n",
    "  print(\"even\")\n",
    "else:\n",
    "  print(\"odd\")"
   ]
  },
  {
   "cell_type": "markdown",
   "metadata": {},
   "source": [
    "### Loop in python\n",
    "In programming, loops are used to execute a block of code repeatedly. They are handy when you want to perform a task multiple times without writing the same code over and over again.  \n",
    "**For Loop in Python**\n",
    "```python\n",
    "# This will print \"Hello World\" five times\n",
    "for i in range(5):\n",
    "    print(\"Hello World\")\n",
    "```"
   ]
  },
  {
   "cell_type": "markdown",
   "metadata": {},
   "source": [
    "#### Exercise\n",
    "Print numbers from 1 to 10"
   ]
  },
  {
   "cell_type": "code",
   "execution_count": 4,
   "metadata": {},
   "outputs": [
    {
     "name": "stdout",
     "output_type": "stream",
     "text": [
      "1\n",
      "2\n",
      "3\n",
      "4\n",
      "5\n",
      "6\n",
      "7\n",
      "8\n",
      "9\n",
      "10\n"
     ]
    }
   ],
   "source": [
    "for x in range(10):\n",
    "  print(x+1)"
   ]
  },
  {
   "cell_type": "markdown",
   "metadata": {},
   "source": [
    "### Lists in Python\n",
    "Lists are a versatile data structure in Python used to store collections of items. They allow you to store and manipulate multiple pieces of data in a single variable.\n",
    "```python\n",
    "fruits = ['apple', 'banana', 'orange']\n",
    "```"
   ]
  },
  {
   "cell_type": "markdown",
   "metadata": {},
   "source": [
    "#### Exercise\n",
    "Complete the given code to print sum of all numbers in the given list"
   ]
  },
  {
   "cell_type": "code",
   "execution_count": 5,
   "metadata": {},
   "outputs": [
    {
     "name": "stdout",
     "output_type": "stream",
     "text": [
      "34\n"
     ]
    }
   ],
   "source": [
    "numbers = [2, 4, 7, 4, 8, 2, 7]\n",
    "# Initialise sum to zero and keep adding numbers from the list to sum\n",
    "sum = 0 \n",
    "for number in numbers:\n",
    "  # Write your code here \n",
    "  sum+=number\n",
    "\n",
    "print(sum)"
   ]
  },
  {
   "cell_type": "markdown",
   "metadata": {},
   "source": [
    "### Functions\n",
    "Functions are a way to organize your code into reusable blocks. They allow you to break down your program into smaller, manageable pieces, making your code more modular and easier to understand.\n",
    "```python\n",
    "def function_name(parameters):\n",
    "    # Code block to be executed\n",
    "    return something\n",
    "```"
   ]
  },
  {
   "cell_type": "markdown",
   "metadata": {},
   "source": [
    "#### Exercise\n",
    "Write function to return output for this function for a given `x`  \n",
    "$$ y = f(x) = x^3 - 5x^2 + 6x + 2 $$"
   ]
  },
  {
   "cell_type": "code",
   "execution_count": 6,
   "metadata": {},
   "outputs": [
    {
     "name": "stdout",
     "output_type": "stream",
     "text": [
      "32\n"
     ]
    }
   ],
   "source": [
    "def calculate_function(x):\n",
    "  y = (x**3)-5*(x**2)+6*x+2\n",
    "  return y\n",
    "\n",
    "# This should print value for y=f(5)\n",
    "print(calculate_function(5))\n"
   ]
  },
  {
   "cell_type": "markdown",
   "metadata": {},
   "source": [
    "If you were able to understand and write these basic code blocks, you are good to go and learn about a very powerful python library \"NumPy\" which helps us deal with multi-dimension arrays"
   ]
  }
 ],
 "metadata": {
  "kernelspec": {
   "display_name": "Python 3",
   "language": "python",
   "name": "python3"
  },
  "language_info": {
   "codemirror_mode": {
    "name": "ipython",
    "version": 3
   },
   "file_extension": ".py",
   "mimetype": "text/x-python",
   "name": "python",
   "nbconvert_exporter": "python",
   "pygments_lexer": "ipython3",
   "version": "3.12.1"
  }
 },
 "nbformat": 4,
 "nbformat_minor": 2
}
