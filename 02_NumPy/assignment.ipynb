{
 "cells": [
  {
   "cell_type": "markdown",
   "metadata": {},
   "source": [
    "# Introduction to Deep Learning\n",
    "This assignment will give you brief introduction to NumPy. NumPy is a fundamental package for scientific computing in Python. It provides support for arrays, matrices, and mathematical functions, making it essential for various fields including data science, machine learning, and engineering."
   ]
  },
  {
   "cell_type": "markdown",
   "metadata": {},
   "source": [
    "Sigmoid function is definded as\n",
    "$$\n",
    "sigmoid(x) = \\frac{1}{1 + e^{-x}}\n",
    "$$\n",
    "Let's start by writing a function in python that will compute this for us "
   ]
  },
  {
   "cell_type": "markdown",
   "metadata": {},
   "source": [
    "#### Exercise\n",
    "Complete the sigmoid function given below using basic python math library  \n",
    "Hint: use `math.exp()` for exponential function or `math.e` for value of e = 2.718281828459045…"
   ]
  },
  {
   "cell_type": "code",
   "execution_count": 21,
   "metadata": {},
   "outputs": [],
   "source": [
    "import math\n",
    "\n",
    "def basic_sigmoid(x):\n",
    "  # This function should return value for sigmoid(x)\n",
    "  s = 1/(1+math.exp((-1)*x))\n",
    "  return s"
   ]
  },
  {
   "cell_type": "code",
   "execution_count": 22,
   "metadata": {},
   "outputs": [
    {
     "name": "stdout",
     "output_type": "stream",
     "text": [
      "0.8807970779778823\n"
     ]
    }
   ],
   "source": [
    "# sigmoid(2) is approx 0.88079\n",
    "print(basic_sigmoid(2))"
   ]
  },
  {
   "cell_type": "markdown",
   "metadata": {},
   "source": [
    "## Numpy\n",
    "Let's start by importing NumPy  \n",
    "Here we are importing numpy as np so we won't have to write numpy everytime and this np notation is very standard and used widely  \n",
    "Run the code below to import numpy "
   ]
  },
  {
   "cell_type": "code",
   "execution_count": 23,
   "metadata": {},
   "outputs": [],
   "source": [
    "import numpy as np"
   ]
  },
  {
   "cell_type": "markdown",
   "metadata": {},
   "source": [
    "### NumPy Arrays\n",
    "We can initialize a numpy array by `np.array()`  \n",
    "Run the code below to get a numpy array from a python list"
   ]
  },
  {
   "cell_type": "code",
   "execution_count": 24,
   "metadata": {},
   "outputs": [
    {
     "name": "stdout",
     "output_type": "stream",
     "text": [
      "[1, 2, 3, 4, 5, 6]\n",
      "[1 2 3 4 5 6]\n"
     ]
    }
   ],
   "source": [
    "# initialize a python list\n",
    "python_list = [1, 2, 3, 4, 5, 6]\n",
    "# initiatlize a numpy array\n",
    "numpy_array = np.array([1, 2, 3, 4, 5, 6])\n",
    "\n",
    "# let's print both of them\n",
    "print(python_list)\n",
    "print(numpy_array)\n"
   ]
  },
  {
   "cell_type": "markdown",
   "metadata": {},
   "source": [
    "#### Exercise\n",
    "Let's say we want to square each and every element of our python list, we write a loop to do so  \n",
    "Complete the code below to do so"
   ]
  },
  {
   "cell_type": "code",
   "execution_count": 25,
   "metadata": {},
   "outputs": [
    {
     "name": "stdout",
     "output_type": "stream",
     "text": [
      "[1, 4, 9, 16, 25, 36]\n"
     ]
    }
   ],
   "source": [
    "squared_list = []\n",
    "\n",
    "for number in python_list:\n",
    "  squared_list.append(number**2)\n",
    "\n",
    "# This should print a list with each element\n",
    "# squared of python_list\n",
    "print(squared_list)"
   ]
  },
  {
   "cell_type": "markdown",
   "metadata": {},
   "source": [
    "Some of you might want to do this instead"
   ]
  },
  {
   "cell_type": "code",
   "execution_count": 26,
   "metadata": {},
   "outputs": [
    {
     "name": "stdout",
     "output_type": "stream",
     "text": [
      "[1, 4, 9, 16, 25, 36]\n"
     ]
    }
   ],
   "source": [
    "squared_list = [x**2 for x in python_list]\n",
    "print(squared_list)"
   ]
  },
  {
   "cell_type": "markdown",
   "metadata": {},
   "source": [
    "But working with basic list in python, we need to write explicit for loops for even such basic stuff  \n",
    "If we want to do the same for NumPy array, we can just write"
   ]
  },
  {
   "cell_type": "code",
   "execution_count": 27,
   "metadata": {},
   "outputs": [
    {
     "name": "stdout",
     "output_type": "stream",
     "text": [
      "[ 1  4  9 16 25 36]\n"
     ]
    }
   ],
   "source": [
    "squared_array = numpy_array**2\n",
    "print(squared_array)"
   ]
  },
  {
   "cell_type": "markdown",
   "metadata": {},
   "source": [
    "This is just the starting of the magic NumPy can do for you"
   ]
  },
  {
   "cell_type": "markdown",
   "metadata": {},
   "source": [
    "#### Exercise\n",
    "Let's code sigmoid function using numpy\n",
    "$$\n",
    "sigmoid(x) = \\frac{1}{1 + e^{-x}}\n",
    "$$\n",
    "Hint: use `np.exp()` for exponential function"
   ]
  },
  {
   "cell_type": "code",
   "execution_count": 28,
   "metadata": {},
   "outputs": [],
   "source": [
    "def numpy_sigmoid(x):\n",
    "  s = 1/(1+np.exp(-x))\n",
    "  return s"
   ]
  },
  {
   "cell_type": "code",
   "execution_count": 29,
   "metadata": {},
   "outputs": [
    {
     "name": "stdout",
     "output_type": "stream",
     "text": [
      "0.8807970779778823\n"
     ]
    }
   ],
   "source": [
    "# sigmoid(2) is approx 0.88079\n",
    "print(numpy_sigmoid(2))"
   ]
  },
  {
   "cell_type": "markdown",
   "metadata": {},
   "source": [
    "Now as you have coded sigmoid function using basic math library and numpy library, what if we want to get sigmoid of each element of a list"
   ]
  },
  {
   "cell_type": "markdown",
   "metadata": {},
   "source": [
    "For the function we wrote using basic math library, we need to write a for loop to get this done  \n",
    "Run the code below"
   ]
  },
  {
   "cell_type": "code",
   "execution_count": 30,
   "metadata": {},
   "outputs": [
    {
     "name": "stdout",
     "output_type": "stream",
     "text": [
      "[0.7310585786300049, 0.8807970779778823, 0.9525741268224334, 0.9820137900379085, 0.9933071490757153, 0.9975273768433653]\n"
     ]
    }
   ],
   "source": [
    "python_list = [1, 2, 3, 4, 5, 6]\n",
    "\n",
    "sigmoid_list = [basic_sigmoid(x) for x in python_list]\n",
    "\n",
    "print(sigmoid_list)"
   ]
  },
  {
   "cell_type": "markdown",
   "metadata": {},
   "source": [
    "But numpy makes it easy for you"
   ]
  },
  {
   "cell_type": "code",
   "execution_count": 31,
   "metadata": {},
   "outputs": [
    {
     "name": "stdout",
     "output_type": "stream",
     "text": [
      "[0.73105858 0.88079708 0.95257413 0.98201379 0.99330715 0.99752738]\n"
     ]
    }
   ],
   "source": [
    "numpy_array = np.array([1, 2, 3, 4, 5, 6])\n",
    "\n",
    "sigmoid_array = numpy_sigmoid(numpy_array)\n",
    "\n",
    "print(sigmoid_array)"
   ]
  },
  {
   "cell_type": "markdown",
   "metadata": {},
   "source": [
    "Writing a for loop might not seem very tough for now but just imagine you want to appy same operation or function on easy element of a 3D array (eg. an image) or a 4D array (eg. group of images)  \n",
    "but for any n-dimentional numpy array you can just write your own coded `numpy_sigmoid(array)` function  "
   ]
  },
  {
   "cell_type": "markdown",
   "metadata": {},
   "source": [
    "## Broadcasting\n",
    "Broadcasting is a powerful feature of NumPy that allows arithmetic operations to be performed on arrays of different shapes. This eliminates the need for explicit looping over array elements, making code more concise and efficient.  \n",
    "### Broadcasting Rules\n",
    "NumPy follows strict rules to determine whether two arrays are compatible for broadcasting:\n",
    "\n",
    "1. If the arrays do not have the same number of dimensions, NumPy will pad the smaller shape with ones on its leading (left) side.\n",
    "2. If the shape of the arrays does not match in any dimension, NumPy will stretch the dimension with size 1 to match the other shape.  \n",
    "\n",
    "Let's see this in action, just run the blocks below and learn by seeing the result"
   ]
  },
  {
   "cell_type": "code",
   "execution_count": 32,
   "metadata": {},
   "outputs": [
    {
     "name": "stdout",
     "output_type": "stream",
     "text": [
      "Array: [1 2 3 4]\n",
      "Result: [11 12 13 14]\n"
     ]
    }
   ],
   "source": [
    "# Create an array\n",
    "arr = np.array([1, 2, 3, 4])\n",
    "\n",
    "# Add a scalar value to the array\n",
    "result = arr + 10\n",
    "\n",
    "print(\"Array:\", arr)\n",
    "print(\"Result:\", result)"
   ]
  },
  {
   "cell_type": "markdown",
   "metadata": {},
   "source": [
    "Let's see another example"
   ]
  },
  {
   "cell_type": "code",
   "execution_count": 33,
   "metadata": {},
   "outputs": [
    {
     "name": "stdout",
     "output_type": "stream",
     "text": [
      "Array 1:\n",
      "[[1 2 3]\n",
      " [4 5 6]]\n",
      "Array 2:\n",
      "[10 20 30]\n",
      "Result:\n",
      "[[11 22 33]\n",
      " [14 25 36]]\n"
     ]
    }
   ],
   "source": [
    "# Create two arrays with different shapes\n",
    "arr1 = np.array([[1, 2, 3], [4, 5, 6]])\n",
    "arr2 = np.array([10, 20, 30])\n",
    "\n",
    "# Add the arrays\n",
    "result = arr1 + arr2\n",
    "\n",
    "print(\"Array 1:\")\n",
    "print(arr1)\n",
    "print(\"Array 2:\")\n",
    "print(arr2)\n",
    "print(\"Result:\")\n",
    "print(result)"
   ]
  },
  {
   "cell_type": "markdown",
   "metadata": {},
   "source": [
    "#### Exercise\n",
    "Normalizing nd-array  \n",
    "Complete the code below to return array with it's values normalized without using any explicit for loop and using broadcasting functionality\n",
    "$$\n",
    "normalized\\_value = \\frac{{ value - \\text{{min\\_val}}}}{{\\text{{max\\_val}} - \\text{{min\\_val}}}}\n",
    "$$\n",
    "With broadcasting in action we can write this as \n",
    "$$\n",
    "normalized\\_array = \\frac{{ array - \\text{{min\\_val}}}}{{\\text{{max\\_val}} - \\text{{min\\_val}}}}\n",
    "$$\n",
    "For each element we want to replace it with this new value  \n",
    "Hint: use `np.min()` and `np.max()` "
   ]
  },
  {
   "cell_type": "code",
   "execution_count": 34,
   "metadata": {},
   "outputs": [],
   "source": [
    "def normalize_array(arr):\n",
    "  \n",
    "  \"\"\"Normalize an n-dimensional array using broadcasting.\"\"\"\n",
    "\n",
    "  min_val = np.min(arr)\n",
    "  max_val = np.max(arr)\n",
    "  numerator = arr-min_val\n",
    "  denominator = max_val-min_val\n",
    "\n",
    "  normalized_array = numerator / denominator\n",
    "  return normalized_array"
   ]
  },
  {
   "cell_type": "code",
   "execution_count": 35,
   "metadata": {},
   "outputs": [
    {
     "name": "stdout",
     "output_type": "stream",
     "text": [
      "Original Array:\n",
      "[[1 2 3]\n",
      " [4 5 6]\n",
      " [7 8 9]]\n",
      "\n",
      "Normalized Array:\n",
      "[[0.    0.125 0.25 ]\n",
      " [0.375 0.5   0.625]\n",
      " [0.75  0.875 1.   ]]\n"
     ]
    }
   ],
   "source": [
    "# Create a sample 2D array\n",
    "sample_array = np.array([[1, 2, 3],\n",
    "                         [4, 5, 6],\n",
    "                         [7, 8, 9]])\n",
    "\n",
    "# Normalize the array\n",
    "normalized_array = normalize_array(sample_array)\n",
    "print(\"Original Array:\")\n",
    "print(sample_array)\n",
    "print(\"\\nNormalized Array:\")\n",
    "print(normalized_array)"
   ]
  },
  {
   "cell_type": "markdown",
   "metadata": {},
   "source": [
    "## Reshaping arrays\n",
    "Reshaping arrays is a crucial operation in NumPy that allows you to change the shape or dimensions of an array without changing its data. This operation is essential for various tasks in data manipulation and analysis."
   ]
  },
  {
   "cell_type": "code",
   "execution_count": 36,
   "metadata": {},
   "outputs": [
    {
     "name": "stdout",
     "output_type": "stream",
     "text": [
      "Original Array:\n",
      "[1 2 3 4 5 6]\n",
      "Reshaped Array:\n",
      "[[1 2 3]\n",
      " [4 5 6]]\n"
     ]
    }
   ],
   "source": [
    "arr = np.array([1, 2, 3, 4, 5, 6])\n",
    "reshaped_arr = arr.reshape(2, 3)\n",
    "\n",
    "print(\"Original Array:\")\n",
    "print(arr)\n",
    "print(\"Reshaped Array:\")\n",
    "print(reshaped_arr)"
   ]
  },
  {
   "cell_type": "markdown",
   "metadata": {},
   "source": [
    "Let's see one more example"
   ]
  },
  {
   "cell_type": "code",
   "execution_count": 37,
   "metadata": {},
   "outputs": [
    {
     "name": "stdout",
     "output_type": "stream",
     "text": [
      "Original Array [ 1  2  3  4  5  6  7  8  9 10 11 12 13 14 15 16]\n",
      "Reshaping with arguments (4,4) [[ 1  2  3  4]\n",
      " [ 5  6  7  8]\n",
      " [ 9 10 11 12]\n",
      " [13 14 15 16]]\n",
      "Reshaping with arguments (4,-1) [[ 1  2  3  4]\n",
      " [ 5  6  7  8]\n",
      " [ 9 10 11 12]\n",
      " [13 14 15 16]]\n"
     ]
    }
   ],
   "source": [
    "# this will create a 1D array with values from 1 to 16\n",
    "arr = np.arange(1, 17)\n",
    "print(\"Original Array\", arr)\n",
    "\n",
    "# let's reshape this array in shape (4, 4) and see the results\n",
    "reshaped_arr = arr.reshape(4, 4)\n",
    "print(\"Reshaping with arguments (4,4)\", reshaped_arr)\n",
    "\n",
    "# you can also set the one of the arguments in reshape to -1\n",
    "# and python will handle the value for you\n",
    "reshaped_arr = arr.reshape(4, -1)\n",
    "print(\"Reshaping with arguments (4,-1)\", reshaped_arr)"
   ]
  },
  {
   "cell_type": "markdown",
   "metadata": {},
   "source": [
    "You'll work more with reshaping arrays in next assignments where we will be reshaping iamges (3D arrays) into 1D arrays for our convenience."
   ]
  }
 ],
 "metadata": {
  "kernelspec": {
   "display_name": "Python 3",
   "language": "python",
   "name": "python3"
  },
  "language_info": {
   "codemirror_mode": {
    "name": "ipython",
    "version": 3
   },
   "file_extension": ".py",
   "mimetype": "text/x-python",
   "name": "python",
   "nbconvert_exporter": "python",
   "pygments_lexer": "ipython3",
   "version": "3.12.1"
  }
 },
 "nbformat": 4,
 "nbformat_minor": 2
}
