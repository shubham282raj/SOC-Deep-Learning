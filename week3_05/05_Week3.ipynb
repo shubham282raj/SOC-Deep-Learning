{
 "cells": [
  {
   "cell_type": "code",
   "execution_count": 1,
   "metadata": {},
   "outputs": [],
   "source": [
    "import numpy as np\n",
    "import matplotlib.pyplot as plt\n",
    "import h5py\n"
   ]
  },
  {
   "cell_type": "code",
   "execution_count": 6,
   "metadata": {},
   "outputs": [
    {
     "name": "stdout",
     "output_type": "stream",
     "text": [
      "Train dataset keys: ['list_classes', 'train_set_x', 'train_set_y']\n",
      "Test dataset keys: ['list_classes', 'test_set_x', 'test_set_y']\n",
      "Train Dataset X shape: (209, 64, 64, 3)\n",
      "Train Dataset Y shape: (209,)\n",
      "Train Dataset X shape: (209, 64, 64, 3)\n",
      "Train Dataset Y shape: (1, 209)\n",
      "Test Dataset X shape: (50, 64, 64, 3)\n",
      "Test Dataset Y shape: (1, 50)\n"
     ]
    }
   ],
   "source": [
    "import h5py\n",
    "import numpy as np\n",
    "\n",
    "def loadDataset():\n",
    "    trainDataset = h5py.File(\"C:\\\\Users\\\\rupan\\\\Downloads\\\\train_catvnoncat.h5\", \"r\")\n",
    "    testDataset = h5py.File(\"C:\\\\Users\\\\rupan\\\\Downloads\\\\test_catvnoncat.h5\", \"r\")\n",
    "\n",
    "    # Print the keys in the datasets to verify the correct ones\n",
    "    print(\"Train dataset keys:\", list(trainDataset.keys()))\n",
    "    print(\"Test dataset keys:\", list(testDataset.keys()))\n",
    "\n",
    "    # Load datasets\n",
    "    trainDatasetX = np.array(trainDataset[\"train_set_x\"][:])\n",
    "    trainDatasetY = np.array(trainDataset[\"train_set_y\"][:])\n",
    "    testDatasetX = np.array(testDataset[\"test_set_x\"][:])\n",
    "    testDatasetY = np.array(testDataset[\"test_set_y\"][:])\n",
    "    classes = np.array(trainDataset[\"list_classes\"][:])\n",
    "\n",
    "    # Print shapes before reshaping\n",
    "    print(\"Train Dataset X shape:\", trainDatasetX.shape)\n",
    "    print(\"Train Dataset Y shape:\", trainDatasetY.shape)\n",
    "\n",
    "    # Reshape Y datasets\n",
    "    trainDatasetY = trainDatasetY.reshape((1, trainDatasetY.shape[0]))\n",
    "    testDatasetY = testDatasetY.reshape((1, testDatasetY.shape[0]))\n",
    "\n",
    "    return trainDatasetX, trainDatasetY, testDatasetX, testDatasetY, classes\n",
    "\n",
    "trainDatasetX, trainDatasetY, testDatasetX, testDatasetY, classes = loadDataset()\n",
    "print(\"Train Dataset X shape:\", trainDatasetX.shape)\n",
    "print(\"Train Dataset Y shape:\", trainDatasetY.shape)\n",
    "print(\"Test Dataset X shape:\", testDatasetX.shape)\n",
    "print(\"Test Dataset Y shape:\", testDatasetY.shape)\n",
    "\n"
   ]
  },
  {
   "cell_type": "code",
   "execution_count": 7,
   "metadata": {},
   "outputs": [
    {
     "data": {
      "image/png": "[encoded data removed]",
      "text/plain": [
       "<Figure size 640x480 with 1 Axes>"
      ]
     },
     "metadata": {},
     "output_type": "display_data"
    },
    {
     "name": "stdout",
     "output_type": "stream",
     "text": [
      "y = 0, it's a 'non-cat' picture.\n"
     ]
    }
   ],
   "source": [
    "index = 158\n",
    "plt.imshow(trainDatasetX[index])\n",
    "plt.show()\n",
    "print (\"y = \" + str(trainDatasetY[0, index]) + \", it's a '\" + classes[np.squeeze(trainDatasetY[:, index])].decode(\"utf-8\") +  \"' picture.\")"
   ]
  },
  {
   "cell_type": "code",
   "execution_count": 8,
   "metadata": {},
   "outputs": [
    {
     "name": "stdout",
     "output_type": "stream",
     "text": [
      "Number of training examples:  209\n",
      "Number of testing examples:  50\n",
      "Height of image:  64 px\n",
      "Shape of image:  (64, 64, 3)\n",
      "Shape of training dataset X:  (209, 64, 64, 3)\n",
      "Shape of training dataset Y:  (1, 209)\n"
     ]
    }
   ],
   "source": [
    "m_train = trainDatasetX.shape[0]  # Number of training examples\n",
    "m_test = testDatasetX.shape[0]    # Number of testing examples, if available\n",
    "num_px = trainDatasetX.shape[1]   # Height (and width, assuming square images) of the images in pixels\n",
    "\n",
    "# let's print some usefull imformation\n",
    "print(\"Number of training examples: \", m_train)\n",
    "print(\"Number of testing examples: \", m_test)\n",
    "print(\"Height of image: \", num_px, \"px\")\n",
    "print(\"Shape of image: \", trainDatasetX[0].shape)\n",
    "print(\"Shape of training dataset X: \", trainDatasetX.shape)\n",
    "print(\"Shape of training dataset Y: \", trainDatasetY.shape)"
   ]
  },
  {
   "cell_type": "code",
   "execution_count": 9,
   "metadata": {},
   "outputs": [
    {
     "name": "stdout",
     "output_type": "stream",
     "text": [
      "Shape of XFlatten:  (12288, 209)\n",
      "Shape of XTestFlatten:  (12288, 50)\n"
     ]
    }
   ],
   "source": [
    "XTrainFlatten = trainDatasetX.reshape(trainDatasetX.shape[0], -1).T\n",
    "XTestFlatten = testDatasetX.reshape(testDatasetX.shape[0], -1).T\n",
    "\n",
    "print(\"Shape of XFlatten: \", XTrainFlatten.shape)\n",
    "print(\"Shape of XTestFlatten: \", XTestFlatten.shape)\n",
    "\n",
    "XTrainFlatten = XTrainFlatten / 255\n",
    "XTestFlatten = XTestFlatten / 255"
   ]
  },
  {
   "cell_type": "code",
   "execution_count": 10,
   "metadata": {},
   "outputs": [],
   "source": [
    "def sigmoid(z):\n",
    "    return 1/(1+np.exp(-z))\n",
    "def initializeParameters(dim):\n",
    "    w = np.zeros((dim, 1))  # Initialize w with zeros or random values based on your requirement\n",
    "    b = 0\n",
    "    return w, b"
   ]
  },
  {
   "cell_type": "code",
   "execution_count": 14,
   "metadata": {},
   "outputs": [],
   "source": [
    "def train_model(X, Y, numIterations, learningRate, printCost = False):\n",
    "    nx = X.shape[0]\n",
    "    m = X.shape[1]\n",
    "    w, b = initializeParameters(nx)\n",
    "    costs = []\n",
    "\n",
    "    for i in range(numIterations):\n",
    "        #forward propagation, cost calculation and backward propagation\n",
    "        grad, cost = propagate(w, b, X, Y)\n",
    "        costs.append(cost)\n",
    "        #update weights\n",
    "        w =w-learningRate*grad[\"dw\"]\n",
    "        b = b-learningRate*grad[\"db\"]\n",
    "\n",
    "        if(printCost and i%100==0):\n",
    "            print(f\"Cost after {i} iterations: {cost}\")\n",
    "    \n",
    "    params = {\"w\": w,\n",
    "              \"b\": b}\n",
    "    \n",
    "    return params, costs\n"
   ]
  },
  {
   "cell_type": "code",
   "execution_count": 15,
   "metadata": {},
   "outputs": [
    {
     "name": "stdout",
     "output_type": "stream",
     "text": [
      "Cost after 0 iterations: 0.6931471805599453\n",
      "Cost after 100 iterations: 0.5845083636993086\n",
      "Cost after 200 iterations: 0.46694904094655476\n",
      "Cost after 300 iterations: 0.3760068669480209\n",
      "Cost after 400 iterations: 0.33146328932825125\n",
      "Cost after 500 iterations: 0.303273067474383\n",
      "Cost after 600 iterations: 0.27987958658260487\n",
      "Cost after 700 iterations: 0.2600421369258757\n",
      "Cost after 800 iterations: 0.2429406846779662\n",
      "Cost after 900 iterations: 0.2280042225672607\n",
      "Cost after 1000 iterations: 0.21481951378449643\n",
      "Cost after 1100 iterations: 0.20307819060644985\n",
      "Cost after 1200 iterations: 0.19254427716706862\n",
      "Cost after 1300 iterations: 0.18303333796883509\n",
      "Cost after 1400 iterations: 0.17439859438448874\n",
      "Cost after 1500 iterations: 0.1665213970540033\n",
      "Cost after 1600 iterations: 0.15930451829756614\n",
      "Cost after 1700 iterations: 0.15266732471296504\n",
      "Cost after 1800 iterations: 0.14654223503982336\n",
      "Cost after 1900 iterations: 0.1408720757031016\n"
     ]
    }
   ],
   "source": [
    "params, costs = train_model(XTrainFlatten, trainDatasetY, numIterations = 2000, learningRate = 0.005, printCost = True)"
   ]
  },
  {
   "cell_type": "code",
   "execution_count": 16,
   "metadata": {},
   "outputs": [
    {
     "data": {
      "image/png": "[encoded data removed]",
      "text/plain": [
       "<Figure size 640x480 with 1 Axes>"
      ]
     },
     "metadata": {},
     "output_type": "display_data"
    }
   ],
   "source": [
    "plt.plot(costs)\n",
    "plt.show()"
   ]
  },
  {
   "cell_type": "code",
   "execution_count": 17,
   "metadata": {},
   "outputs": [
    {
     "name": "stdout",
     "output_type": "stream",
     "text": [
      "train accuracy: 99.04306220095694\n",
      "test accuracy: 70.0\n"
     ]
    }
   ],
   "source": [
    "def predict(params, X, Y):\n",
    "    w = params[\"w\"]\n",
    "    b = params[\"b\"]\n",
    "    Z = np.dot(w.T, X) + b  # Use np.dot for matrix multiplication\n",
    "    A = sigmoid(Z)\n",
    "    Y_Prediction = (A > 0.5) * 1.0\n",
    "    return Y_Prediction\n",
    "\n",
    "# Checking accuracy\n",
    "trainPrediction = predict(params, XTrainFlatten, trainDatasetY)\n",
    "testPrediction = predict(params, XTestFlatten, testDatasetY)\n",
    "\n",
    "train_accuracy = 100 - np.mean(np.abs(trainPrediction - trainDatasetY)) * 100\n",
    "test_accuracy = 100 - np.mean(np.abs(testPrediction - testDatasetY)) * 100\n",
    "\n",
    "print(f\"train accuracy: {train_accuracy}\")\n",
    "print(f\"test accuracy: {test_accuracy}\")"
   ]
  }
 ],
 "metadata": {
  "kernelspec": {
   "display_name": "Python 3",
   "language": "python",
   "name": "python3"
  },
  "language_info": {
   "codemirror_mode": {
    "name": "ipython",
    "version": 3
   },
   "file_extension": ".py",
   "mimetype": "text/x-python",
   "name": "python",
   "nbconvert_exporter": "python",
   "pygments_lexer": "ipython3",
   "version": "3.12.1"
  }
 },
 "nbformat": 4,
 "nbformat_minor": 2
}
